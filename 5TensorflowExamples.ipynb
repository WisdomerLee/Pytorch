{
  "nbformat": 4,
  "nbformat_minor": 0,
  "metadata": {
    "kernelspec": {
      "display_name": "Python 3",
      "language": "python",
      "name": "python3"
    },
    "language_info": {
      "codemirror_mode": {
        "name": "ipython",
        "version": 3
      },
      "file_extension": ".py",
      "mimetype": "text/x-python",
      "name": "python",
      "nbconvert_exporter": "python",
      "pygments_lexer": "ipython3",
      "version": "3.7.6"
    },
    "colab": {
      "name": "5TensorflowExamples.ipynb",
      "provenance": [],
      "include_colab_link": true
    }
  },
  "cells": [
    {
      "cell_type": "markdown",
      "metadata": {
        "id": "view-in-github",
        "colab_type": "text"
      },
      "source": [
        "<a href=\"https://colab.research.google.com/github/WisdomerLee/Pytorch/blob/main/5TensorflowExamples.ipynb\" target=\"_parent\"><img src=\"https://colab.research.google.com/assets/colab-badge.svg\" alt=\"Open In Colab\"/></a>"
      ]
    },
    {
      "cell_type": "markdown",
      "metadata": {
        "id": "JqbYaTo4swIq"
      },
      "source": [
        ""
      ]
    },
    {
      "cell_type": "code",
      "metadata": {
        "id": "BlE_GAwrswIr"
      },
      "source": [
        "import numpy as np\n",
        "import tensorflow as tf"
      ],
      "execution_count": null,
      "outputs": []
    },
    {
      "cell_type": "markdown",
      "metadata": {
        "id": "nPzyhihZswIr"
      },
      "source": [
        "Tensor 생성\n",
        "[]\n",
        " list 생성"
      ]
    },
    {
      "cell_type": "code",
      "metadata": {
        "id": "fvR7R31hswIr",
        "outputId": "8b347d24-83e7-405f-c806-28d5b386adfe"
      },
      "source": [
        "[1,2,3]"
      ],
      "execution_count": null,
      "outputs": [
        {
          "output_type": "execute_result",
          "data": {
            "text/plain": [
              "[1, 2, 3]"
            ]
          },
          "metadata": {
            "tags": []
          },
          "execution_count": 2
        }
      ]
    },
    {
      "cell_type": "code",
      "metadata": {
        "id": "OeApbJBUswIs",
        "outputId": "e4eccf0f-94a2-4a99-a411-2bcbfbb5b2c2"
      },
      "source": [
        "[[1,2,3],[4,5,6]]"
      ],
      "execution_count": null,
      "outputs": [
        {
          "output_type": "execute_result",
          "data": {
            "text/plain": [
              "[[1, 2, 3], [4, 5, 6]]"
            ]
          },
          "metadata": {
            "tags": []
          },
          "execution_count": 3
        }
      ]
    },
    {
      "cell_type": "markdown",
      "metadata": {
        "id": "IB8ceVYwswIs"
      },
      "source": [
        "Array 생성\n",
        "tuple이나 list 둘 다 np.array()로 array로 만들 수 있음"
      ]
    },
    {
      "cell_type": "code",
      "metadata": {
        "id": "y4Ep6MoDswIs"
      },
      "source": [
        "arr = np.array([1,2,3])"
      ],
      "execution_count": null,
      "outputs": []
    },
    {
      "cell_type": "code",
      "metadata": {
        "id": "606pGb_TswIs",
        "outputId": "7c42b91a-08fc-471f-84f0-d21a1e24ff96"
      },
      "source": [
        "arr.shape"
      ],
      "execution_count": null,
      "outputs": [
        {
          "output_type": "execute_result",
          "data": {
            "text/plain": [
              "(3,)"
            ]
          },
          "metadata": {
            "tags": []
          },
          "execution_count": 5
        }
      ]
    },
    {
      "cell_type": "code",
      "metadata": {
        "id": "ud_CJDOeswIs"
      },
      "source": [
        "arr = np.array([[1,2,3],[4,5,6]])"
      ],
      "execution_count": null,
      "outputs": []
    },
    {
      "cell_type": "code",
      "metadata": {
        "id": "0HZXBWcxswIs",
        "outputId": "157361d4-d85e-4f21-f99d-0f695b4ac224"
      },
      "source": [
        "arr.shape"
      ],
      "execution_count": null,
      "outputs": [
        {
          "output_type": "execute_result",
          "data": {
            "text/plain": [
              "(2, 3)"
            ]
          },
          "metadata": {
            "tags": []
          },
          "execution_count": 8
        }
      ]
    },
    {
      "cell_type": "markdown",
      "metadata": {
        "id": "8NRWRPScswIs"
      },
      "source": [
        "Tensor 생성\n",
        "tf.constant()\n",
        "list->Tensor"
      ]
    },
    {
      "cell_type": "code",
      "metadata": {
        "id": "RGaxMnpyswIs",
        "outputId": "89574c3a-633e-49e7-8d57-267b510c0d35"
      },
      "source": [
        "tf.constant([1,2,3])"
      ],
      "execution_count": null,
      "outputs": [
        {
          "output_type": "execute_result",
          "data": {
            "text/plain": [
              "<tf.Tensor: shape=(3,), dtype=int32, numpy=array([1, 2, 3])>"
            ]
          },
          "metadata": {
            "tags": []
          },
          "execution_count": 9
        }
      ]
    },
    {
      "cell_type": "markdown",
      "metadata": {
        "id": "q2WTXjK0swIs"
      },
      "source": [
        "tf.constant()\n",
        "tuple -> Tensor"
      ]
    },
    {
      "cell_type": "code",
      "metadata": {
        "id": "z3ZEdtHyswIs",
        "outputId": "f76d14d3-0241-4a14-8044-e0a911c64b3c"
      },
      "source": [
        "tf.constant([[1,2,3],[4,5,6]])"
      ],
      "execution_count": null,
      "outputs": [
        {
          "output_type": "execute_result",
          "data": {
            "text/plain": [
              "<tf.Tensor: shape=(2, 3), dtype=int32, numpy=\n",
              "array([[1, 2, 3],\n",
              "       [4, 5, 6]])>"
            ]
          },
          "metadata": {
            "tags": []
          },
          "execution_count": 10
        }
      ]
    },
    {
      "cell_type": "markdown",
      "metadata": {
        "id": "Cq8vJxPuswIs"
      },
      "source": [
        "tf.constant()\n",
        "array->Tensor"
      ]
    },
    {
      "cell_type": "code",
      "metadata": {
        "id": "2-oUcrwwswIs",
        "outputId": "2eefd891-478c-416a-f405-cfea743576eb"
      },
      "source": [
        "arr = np.array([1,2,3])\n",
        "arr"
      ],
      "execution_count": null,
      "outputs": [
        {
          "output_type": "execute_result",
          "data": {
            "text/plain": [
              "array([1, 2, 3])"
            ]
          },
          "metadata": {
            "tags": []
          },
          "execution_count": 11
        }
      ]
    },
    {
      "cell_type": "code",
      "metadata": {
        "id": "2uIdIJoaswIs",
        "outputId": "d7ace2f7-29d0-4e58-ca95-3637a197d5a4"
      },
      "source": [
        "tensor = tf.constant(arr)\n",
        "tensor"
      ],
      "execution_count": null,
      "outputs": [
        {
          "output_type": "execute_result",
          "data": {
            "text/plain": [
              "<tf.Tensor: shape=(3,), dtype=int32, numpy=array([1, 2, 3])>"
            ]
          },
          "metadata": {
            "tags": []
          },
          "execution_count": 12
        }
      ]
    },
    {
      "cell_type": "markdown",
      "metadata": {
        "id": "IYfIZIQuswIs"
      },
      "source": [
        "Tensor에 담긴 정보 확인\n",
        "shape확인"
      ]
    },
    {
      "cell_type": "code",
      "metadata": {
        "id": "3Vb1wpryswIs",
        "outputId": "116468f4-bc1b-4329-b6a9-51a3707b5892"
      },
      "source": [
        "tensor.shape"
      ],
      "execution_count": null,
      "outputs": [
        {
          "output_type": "execute_result",
          "data": {
            "text/plain": [
              "TensorShape([3])"
            ]
          },
          "metadata": {
            "tags": []
          },
          "execution_count": 13
        }
      ]
    },
    {
      "cell_type": "markdown",
      "metadata": {
        "id": "MdsUXGposwIt"
      },
      "source": [
        "data type 확인\n",
        "Tensor 생성할 때도 data type을 정해주지 않기 때문에 data type에 대한 혼동이 올 수 있음\n",
        "Data type에 따라 모델의 무게, 성능에도 영향을 줄 수 있음"
      ]
    },
    {
      "cell_type": "code",
      "metadata": {
        "id": "c4xBE_bbswIt",
        "outputId": "2303fc7f-86a7-484d-bfcd-b9685ed4e2dd"
      },
      "source": [
        "tensor.dtype"
      ],
      "execution_count": null,
      "outputs": [
        {
          "output_type": "execute_result",
          "data": {
            "text/plain": [
              "tf.int32"
            ]
          },
          "metadata": {
            "tags": []
          },
          "execution_count": 15
        }
      ]
    },
    {
      "cell_type": "markdown",
      "metadata": {
        "id": "CI86-NdTswIt"
      },
      "source": [
        "data type 정의"
      ]
    },
    {
      "cell_type": "code",
      "metadata": {
        "id": "7NzBWJ19swIt",
        "outputId": "40ff6408-23a2-4384-b603-f1a9d7ea2da3"
      },
      "source": [
        "tensor = tf.constant([1,2,3], dtype=tf.float32)\n",
        "tensor"
      ],
      "execution_count": null,
      "outputs": [
        {
          "output_type": "execute_result",
          "data": {
            "text/plain": [
              "<tf.Tensor: shape=(3,), dtype=float32, numpy=array([1., 2., 3.], dtype=float32)>"
            ]
          },
          "metadata": {
            "tags": []
          },
          "execution_count": 16
        }
      ]
    },
    {
      "cell_type": "markdown",
      "metadata": {
        "id": "-XrEiJI7swIt"
      },
      "source": [
        "data type 변환\n",
        "Numpy에서 astype(), TensorFlow에서는 tf.cast사용"
      ]
    },
    {
      "cell_type": "code",
      "metadata": {
        "id": "o4RNIgD0swIt"
      },
      "source": [
        "arr = np.array([1,2,3], dtype = np.float32)"
      ],
      "execution_count": null,
      "outputs": []
    },
    {
      "cell_type": "code",
      "metadata": {
        "id": "bJn3xo9gswIt",
        "outputId": "ecc511d5-dabc-4a7c-d3fe-05699668c9ff"
      },
      "source": [
        "arr.astype(np.uint8)"
      ],
      "execution_count": null,
      "outputs": [
        {
          "output_type": "execute_result",
          "data": {
            "text/plain": [
              "array([1, 2, 3], dtype=uint8)"
            ]
          },
          "metadata": {
            "tags": []
          },
          "execution_count": 19
        }
      ]
    },
    {
      "cell_type": "code",
      "metadata": {
        "id": "PFJ7h2zaswIt",
        "outputId": "5e494032-5162-4f3f-b3ae-d0526cf11534"
      },
      "source": [
        "tensor"
      ],
      "execution_count": null,
      "outputs": [
        {
          "output_type": "execute_result",
          "data": {
            "text/plain": [
              "<tf.Tensor: shape=(3,), dtype=float32, numpy=array([1., 2., 3.], dtype=float32)>"
            ]
          },
          "metadata": {
            "tags": []
          },
          "execution_count": 20
        }
      ]
    },
    {
      "cell_type": "code",
      "metadata": {
        "id": "XmUJPZxMswIt",
        "outputId": "808992bd-1a89-4dec-87f1-d063a62b457d"
      },
      "source": [
        "tf.cast(tensor, dtype = tf.uint8)"
      ],
      "execution_count": null,
      "outputs": [
        {
          "output_type": "execute_result",
          "data": {
            "text/plain": [
              "<tf.Tensor: shape=(3,), dtype=uint8, numpy=array([1, 2, 3], dtype=uint8)>"
            ]
          },
          "metadata": {
            "tags": []
          },
          "execution_count": 21
        }
      ]
    },
    {
      "cell_type": "markdown",
      "metadata": {
        "id": "dtA2bksSswIt"
      },
      "source": [
        "Tensor에서 Numpy 불러오기\n",
        ".numpy()"
      ]
    },
    {
      "cell_type": "code",
      "metadata": {
        "id": "fOy8UPdHswIt",
        "outputId": "1dd96970-6cbc-4057-ac81-d9c969e72d8b"
      },
      "source": [
        "tensor.numpy()"
      ],
      "execution_count": null,
      "outputs": [
        {
          "output_type": "execute_result",
          "data": {
            "text/plain": [
              "array([1., 2., 3.], dtype=float32)"
            ]
          },
          "metadata": {
            "tags": []
          },
          "execution_count": 22
        }
      ]
    },
    {
      "cell_type": "code",
      "metadata": {
        "id": "DgksgMHiswIt"
      },
      "source": [
        "Tensor에서 Numpy 불러오기\n",
        "np.array()"
      ],
      "execution_count": null,
      "outputs": []
    },
    {
      "cell_type": "code",
      "metadata": {
        "id": "Xj2Vyu3-swIt",
        "outputId": "e4ef8601-97f5-40ac-acbd-ffdf400dc82a"
      },
      "source": [
        "np.array(tensor)"
      ],
      "execution_count": null,
      "outputs": [
        {
          "output_type": "execute_result",
          "data": {
            "text/plain": [
              "array([1., 2., 3.], dtype=float32)"
            ]
          },
          "metadata": {
            "tags": []
          },
          "execution_count": 23
        }
      ]
    },
    {
      "cell_type": "code",
      "metadata": {
        "id": "MN4Mt-knswIt",
        "outputId": "1e6111e1-8313-406a-905d-81891153dd4f"
      },
      "source": [
        "type(tensor.numpy())"
      ],
      "execution_count": null,
      "outputs": [
        {
          "output_type": "execute_result",
          "data": {
            "text/plain": [
              "numpy.ndarray"
            ]
          },
          "metadata": {
            "tags": []
          },
          "execution_count": 25
        }
      ]
    },
    {
      "cell_type": "markdown",
      "metadata": {
        "id": "NlbOQkPpswIt"
      },
      "source": [
        "난수 생성"
      ]
    },
    {
      "cell_type": "markdown",
      "metadata": {
        "id": "Yc0NOQqSswIt"
      },
      "source": [
        "Normal Distribution: 중심 극한 이론에 의한 연속\n",
        "Uniform Distribution: 불연속, 일정\n",
        "numpy에서는 normal distribution을 기본으로 생성\n",
        "np.random.randn()"
      ]
    },
    {
      "cell_type": "code",
      "metadata": {
        "id": "qWbdZ7NRswIt",
        "outputId": "03dd1053-60cb-4312-8ffe-31c61d90c113"
      },
      "source": [
        "np.random.randn(9)"
      ],
      "execution_count": null,
      "outputs": [
        {
          "output_type": "execute_result",
          "data": {
            "text/plain": [
              "array([-0.1919586 , -0.55942942,  1.76168265,  0.64019745,  0.1847585 ,\n",
              "       -1.31813074,  0.84132483, -0.33494684,  0.77748812])"
            ]
          },
          "metadata": {
            "tags": []
          },
          "execution_count": 26
        }
      ]
    },
    {
      "cell_type": "markdown",
      "metadata": {
        "id": "7HHp8obxswIt"
      },
      "source": [
        "tf.random.normal\n",
        "Tensorflow에서 Normal Distribution"
      ]
    },
    {
      "cell_type": "code",
      "metadata": {
        "id": "vyLypmbYswIt",
        "outputId": "38ecd2f9-3499-4c5c-8be9-b00c7cc7d9e9"
      },
      "source": [
        "tf.random.normal([3,3])"
      ],
      "execution_count": null,
      "outputs": [
        {
          "output_type": "execute_result",
          "data": {
            "text/plain": [
              "<tf.Tensor: shape=(3, 3), dtype=float32, numpy=\n",
              "array([[ 0.9117302 ,  0.07868001, -1.0871475 ],\n",
              "       [-0.8064827 ,  0.3732613 , -0.67023563],\n",
              "       [ 0.7110157 ,  3.8698008 ,  0.7795326 ]], dtype=float32)>"
            ]
          },
          "metadata": {
            "tags": []
          },
          "execution_count": 28
        }
      ]
    },
    {
      "cell_type": "markdown",
      "metadata": {
        "id": "ltDE2VnxswIt"
      },
      "source": [
        "tf.random.uniform"
      ]
    },
    {
      "cell_type": "code",
      "metadata": {
        "id": "FFhxPRlAswIt",
        "outputId": "1a6f68c3-ea6d-4b92-9d81-c7f56850d223"
      },
      "source": [
        "tf.random.uniform([4,4])"
      ],
      "execution_count": null,
      "outputs": [
        {
          "output_type": "execute_result",
          "data": {
            "text/plain": [
              "<tf.Tensor: shape=(4, 4), dtype=float32, numpy=\n",
              "array([[0.34545898, 0.27375245, 0.05304146, 0.32947147],\n",
              "       [0.7925961 , 0.5996934 , 0.21633434, 0.16912186],\n",
              "       [0.639101  , 0.82814276, 0.41185856, 0.8688618 ],\n",
              "       [0.3733816 , 0.6571517 , 0.24935746, 0.61124456]], dtype=float32)>"
            ]
          },
          "metadata": {
            "tags": []
          },
          "execution_count": 29
        }
      ]
    },
    {
      "cell_type": "code",
      "metadata": {
        "id": "rn3Qcs-_swIt"
      },
      "source": [
        ""
      ],
      "execution_count": null,
      "outputs": []
    },
    {
      "cell_type": "code",
      "metadata": {
        "id": "o743s70ZswIt"
      },
      "source": [
        ""
      ],
      "execution_count": null,
      "outputs": []
    },
    {
      "cell_type": "code",
      "metadata": {
        "id": "DEDM2YERswIt"
      },
      "source": [
        ""
      ],
      "execution_count": null,
      "outputs": []
    },
    {
      "cell_type": "code",
      "metadata": {
        "id": "ns8gIb7AswIt"
      },
      "source": [
        ""
      ],
      "execution_count": null,
      "outputs": []
    },
    {
      "cell_type": "code",
      "metadata": {
        "id": "q99dEKYHswIt"
      },
      "source": [
        ""
      ],
      "execution_count": null,
      "outputs": []
    },
    {
      "cell_type": "code",
      "metadata": {
        "id": "QQhTbzIsswIt"
      },
      "source": [
        ""
      ],
      "execution_count": null,
      "outputs": []
    }
  ]
}
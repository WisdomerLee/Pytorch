{
  "nbformat": 4,
  "nbformat_minor": 0,
  "metadata": {
    "kernelspec": {
      "display_name": "Python 3",
      "language": "python",
      "name": "python3"
    },
    "language_info": {
      "codemirror_mode": {
        "name": "ipython",
        "version": 3
      },
      "file_extension": ".py",
      "mimetype": "text/x-python",
      "name": "python",
      "nbconvert_exporter": "python",
      "pygments_lexer": "ipython3",
      "version": "3.7.6"
    },
    "colab": {
      "name": "13Optimizer_Training.ipynb",
      "provenance": [],
      "include_colab_link": true
    }
  },
  "cells": [
    {
      "cell_type": "markdown",
      "metadata": {
        "id": "view-in-github",
        "colab_type": "text"
      },
      "source": [
        "<a href=\"https://colab.research.google.com/github/WisdomerLee/Pytorch/blob/main/13Optimizer_Training.ipynb\" target=\"_parent\"><img src=\"https://colab.research.google.com/assets/colab-badge.svg\" alt=\"Open In Colab\"/></a>"
      ]
    },
    {
      "cell_type": "markdown",
      "metadata": {
        "id": "uuqhQgNavPdS"
      },
      "source": [
        "https://github.com/pytorch/examples/tree/master/mnist"
      ]
    },
    {
      "cell_type": "code",
      "metadata": {
        "id": "HjHVVlLhvPdS"
      },
      "source": [
        "import os\n",
        "from glob import glob\n",
        "\n",
        "import torch\n",
        "import torch.nn as nn\n",
        "import torch.nn.functional as F\n",
        "import torch.optim as optim\n",
        "from torchvision import datasets, transforms\n",
        "\n",
        "import numpy as np"
      ],
      "execution_count": null,
      "outputs": []
    },
    {
      "cell_type": "code",
      "metadata": {
        "id": "wqA8EvzNvPdT"
      },
      "source": [
        "seed = 1\n",
        "\n",
        "batch_size = 64\n",
        "test_batch_size = 64\n",
        "\n",
        "no_cuda = False"
      ],
      "execution_count": null,
      "outputs": []
    },
    {
      "cell_type": "code",
      "metadata": {
        "id": "F-AswSN_vPdT"
      },
      "source": [
        "use_cuda = not no_cuda and torch.cuda.is_available()\n",
        "device = torch.device(\"cuda\" if use_cuda else \"cpu\")"
      ],
      "execution_count": null,
      "outputs": []
    },
    {
      "cell_type": "markdown",
      "metadata": {
        "id": "fsXUrgN8vPdT"
      },
      "source": [
        "Preprocess"
      ]
    },
    {
      "cell_type": "code",
      "metadata": {
        "id": "zBReqf2ivPdT"
      },
      "source": [
        "torch.manual_seed(seed)\n",
        "\n",
        "train_loader = torch.utils.data.DataLoader(\n",
        "    datasets.MNIST('../data', train = True, download = True,\n",
        "                   transform=transforms.Compose([\n",
        "                       transforms.ToTensor(),\n",
        "                       transforms.Normalize((0.1307, ), (0.3081,))\n",
        "                   ])),\n",
        "    batch_size = batch_size, shuffle=True)\n",
        "\n",
        "test_loader = torch.utils.data.DataLoader(\n",
        "    datasets.MNIST('../data', train = False, transform = transforms.Compose([\n",
        "        transforms.ToTensor(),\n",
        "        transforms.Normalize((0.1307,), (0.3081,))\n",
        "    ])),\n",
        "    batch_size = test_batch_size, shuffle = True)"
      ],
      "execution_count": null,
      "outputs": []
    },
    {
      "cell_type": "markdown",
      "metadata": {
        "id": "q4UNuxqivPdT"
      },
      "source": [
        "Model"
      ]
    },
    {
      "cell_type": "code",
      "metadata": {
        "id": "z52JYa6qvPdT"
      },
      "source": [
        "class Net(nn.Module):\n",
        "    def __init__(self):\n",
        "        super(Net, self).__init__()\n",
        "        self.conv1=nn.Conv2d(1,20,5,1)\n",
        "        self.conv2=nn.Conv2d(20,50,5,1)\n",
        "        self.fc1=nn.Linear(4*4*50, 500)\n",
        "        self.fc2 = nn.Linear(500, 10)\n",
        "        \n",
        "    def forward(self, x):\n",
        "        x = F.relu(self.conv1(x))\n",
        "        x=F.max_pool2d(x,2,2)\n",
        "        x=F.relu(self.conv2(x))\n",
        "        x=F.max_pool2d(x,2,2)\n",
        "        x=x.view(-1,4*4*50)\n",
        "        x=F.relu(self.fc1(x))\n",
        "        x=self.fc2(x)\n",
        "        return F.log_softmax(x, dim=1)"
      ],
      "execution_count": null,
      "outputs": []
    },
    {
      "cell_type": "markdown",
      "metadata": {
        "id": "h-H6f67EvPdT"
      },
      "source": [
        "Optimization\n",
        "model, optimization 설정"
      ]
    },
    {
      "cell_type": "code",
      "metadata": {
        "id": "AiT7Nz_CvPdT"
      },
      "source": [
        "model = Net().to(device)"
      ],
      "execution_count": null,
      "outputs": []
    },
    {
      "cell_type": "code",
      "metadata": {
        "id": "QgcQlCZJvPdT"
      },
      "source": [
        "optimizer = optim.SGD(model.parameters(), lr=0.001, momentum=0.5)"
      ],
      "execution_count": null,
      "outputs": []
    },
    {
      "cell_type": "markdown",
      "metadata": {
        "id": "o8WzxP8OvPdT"
      },
      "source": [
        "Parameters들 확인\n",
        "Weight, Bais를 순서대로 보여줌"
      ]
    },
    {
      "cell_type": "code",
      "metadata": {
        "id": "QruFELNmvPdT",
        "outputId": "d45186fd-cb3a-411c-d7c8-2144454983c7"
      },
      "source": [
        "params = list(model.parameters())\n",
        "for i in range(8):\n",
        "    print(params[i].size())"
      ],
      "execution_count": null,
      "outputs": [
        {
          "output_type": "stream",
          "text": [
            "torch.Size([20, 1, 5, 5])\n",
            "torch.Size([20])\n",
            "torch.Size([50, 20, 5, 5])\n",
            "torch.Size([50])\n",
            "torch.Size([500, 800])\n",
            "torch.Size([500])\n",
            "torch.Size([10, 500])\n",
            "torch.Size([10])\n"
          ],
          "name": "stdout"
        }
      ]
    },
    {
      "cell_type": "markdown",
      "metadata": {
        "id": "aiWfnReUvPdV"
      },
      "source": [
        "Before Training\n",
        "학습하기 전에 model이 Train할 수 있도록 Train Mode로 변환\n",
        "Convolution 또는 Linear 뿐만 아니라, Dropout과 추후에 배우게 될 Batch Normalization과 같이 parameter를 가진 Layer들도 학습하기 위해 준비"
      ]
    },
    {
      "cell_type": "code",
      "metadata": {
        "id": "OAsku9y6vPdV",
        "outputId": "69721b05-c808-4f6d-ecd4-a8081930dbfc"
      },
      "source": [
        "model.train() #학습모드"
      ],
      "execution_count": null,
      "outputs": [
        {
          "output_type": "execute_result",
          "data": {
            "text/plain": [
              "Net(\n",
              "  (conv1): Conv2d(1, 20, kernel_size=(5, 5), stride=(1, 1))\n",
              "  (conv2): Conv2d(20, 50, kernel_size=(5, 5), stride=(1, 1))\n",
              "  (fc1): Linear(in_features=800, out_features=500, bias=True)\n",
              "  (fc2): Linear(in_features=500, out_features=10, bias=True)\n",
              ")"
            ]
          },
          "metadata": {
            "tags": []
          },
          "execution_count": 9
        }
      ]
    },
    {
      "cell_type": "markdown",
      "metadata": {
        "id": "ZQRR3Yj_vPdV"
      },
      "source": [
        "모델에 넣기 위한 첫 Batch 데이터 추출"
      ]
    },
    {
      "cell_type": "code",
      "metadata": {
        "id": "6uc5nq4OvPdV"
      },
      "source": [
        "data, target = next(iter(train_loader))"
      ],
      "execution_count": null,
      "outputs": []
    },
    {
      "cell_type": "code",
      "metadata": {
        "id": "lj6H7_gvvPdV",
        "outputId": "051c720b-a683-4f9c-95ef-d0908e3294c7"
      },
      "source": [
        "data.shape, target.shape"
      ],
      "execution_count": null,
      "outputs": [
        {
          "output_type": "execute_result",
          "data": {
            "text/plain": [
              "(torch.Size([64, 1, 28, 28]), torch.Size([64]))"
            ]
          },
          "metadata": {
            "tags": []
          },
          "execution_count": 11
        }
      ]
    },
    {
      "cell_type": "markdown",
      "metadata": {
        "id": "IVcKwR80vPdV"
      },
      "source": [
        "추출한 Batch 데이터를 cpu, gpu와 같은 device에 compile"
      ]
    },
    {
      "cell_type": "code",
      "metadata": {
        "id": "mYwn_HTJvPdV"
      },
      "source": [
        "data, target = data.to(device), target.to(device)"
      ],
      "execution_count": null,
      "outputs": []
    },
    {
      "cell_type": "code",
      "metadata": {
        "id": "uZ39g88AvPdV",
        "outputId": "c23dc165-cd00-494d-b842-7716046e0998"
      },
      "source": [
        "data.shape, target.shape"
      ],
      "execution_count": null,
      "outputs": [
        {
          "output_type": "execute_result",
          "data": {
            "text/plain": [
              "(torch.Size([64, 1, 28, 28]), torch.Size([64]))"
            ]
          },
          "metadata": {
            "tags": []
          },
          "execution_count": 13
        }
      ]
    },
    {
      "cell_type": "markdown",
      "metadata": {
        "id": "M8j66tLWvPdW"
      },
      "source": [
        "gradient를 clear하여 새 최적화 값을 찾기 위한 준비"
      ]
    },
    {
      "cell_type": "code",
      "metadata": {
        "id": "CuFkn3JCvPdW"
      },
      "source": [
        "optimizer.zero_grad()"
      ],
      "execution_count": null,
      "outputs": []
    },
    {
      "cell_type": "markdown",
      "metadata": {
        "id": "ExpsdJHGvPdW"
      },
      "source": [
        "준비한 데이터를 model에 input으로 넣어 output을 얻음"
      ]
    },
    {
      "cell_type": "code",
      "metadata": {
        "id": "3hVdMakJvPdW"
      },
      "source": [
        "output = model(data)"
      ],
      "execution_count": null,
      "outputs": []
    },
    {
      "cell_type": "markdown",
      "metadata": {
        "id": "GrxRN4kHvPdW"
      },
      "source": [
        "Model에서 예측한 결과를 Loss Function에 넣음\n",
        "Negative Log-Likelihood Loss라는 Loss Function을 사용"
      ]
    },
    {
      "cell_type": "code",
      "metadata": {
        "id": "WlcDvQeHvPdW"
      },
      "source": [
        "loss= F.nll_loss(output, target)"
      ],
      "execution_count": null,
      "outputs": []
    },
    {
      "cell_type": "markdown",
      "metadata": {
        "id": "E2a8yFrbvPdW"
      },
      "source": [
        "Back Propaganda로 Gradient 계산"
      ]
    },
    {
      "cell_type": "code",
      "metadata": {
        "id": "Guy0WYPHvPdW"
      },
      "source": [
        "loss.backward()"
      ],
      "execution_count": null,
      "outputs": []
    },
    {
      "cell_type": "markdown",
      "metadata": {
        "id": "GnXuAMzhvPdW"
      },
      "source": [
        "계산된 Gradients: parameter에 Update"
      ]
    },
    {
      "cell_type": "code",
      "metadata": {
        "id": "mHhJHYN8vPdW"
      },
      "source": [
        "optimizer.step()"
      ],
      "execution_count": null,
      "outputs": []
    },
    {
      "cell_type": "markdown",
      "metadata": {
        "id": "JH8AjpXBvPdW"
      },
      "source": [
        "Start Training\n",
        "위의 최적화 과정을 반복하여 학습"
      ]
    },
    {
      "cell_type": "code",
      "metadata": {
        "id": "wbFbY1SwvPdW"
      },
      "source": [
        "epochs =1\n",
        "log_interval = 100"
      ],
      "execution_count": null,
      "outputs": []
    },
    {
      "cell_type": "code",
      "metadata": {
        "id": "T0QFoShVvPdW",
        "outputId": "e73e2804-07b7-49f8-be87-1a4fcb8441f4"
      },
      "source": [
        "for epoch in range(1, epochs+1):\n",
        "    #Model 학습\n",
        "    model.train()\n",
        "    for batch_idx, (data, target) in enumerate(train_loader):\n",
        "        data, target = data.to(device), target.to(device)\n",
        "        optimizer.zero_grad()\n",
        "        output = model(data)\n",
        "        loss = F.nll_loss(output, target)\n",
        "        loss.backward()\n",
        "        optimizer.step()\n",
        "        \n",
        "        if batch_idx% log_interval == 0:\n",
        "            print('Training Epoch: {} [{}/{} ({:.0f}%)]\\tLoss:{:6f}'.format(epoch, batch_idx*len(data), len(train_loader.dataset),\n",
        "                                                                            100*batch_idx/len(train_loader), loss.item()))\n",
        "    model.eval()\n",
        "\n",
        "    test_loss = 0\n",
        "    correct = 0\n",
        "    \n",
        "    with torch.no_grad():\n",
        "        for data, target in test_loader:\n",
        "            data, target = data.to(device), target.to(device)\n",
        "            output = model(data)\n",
        "            test_loss +=F.nll_loss(output, target, reduction ='sum').item()\n",
        "            pred = output.argmax(dim=1, keepdim=True)\n",
        "            correct += pred.eq(target.view_as(pred)).sum().item()\n",
        "        \n",
        "    test_loss /= len(test_loader.dataset)\n",
        "    \n",
        "    print('\\nTest set: Average Loss : {:.4f}, Accuracy: {}/{}({:0f}%)\\n'.format(\n",
        "        test_loss, correct, len(test_loader.dataset), 100.*correct/len(test_loader.dataset)))\n",
        "    "
      ],
      "execution_count": null,
      "outputs": [
        {
          "output_type": "stream",
          "text": [
            "Training Epoch: 1 [0/60000 (0%)]\tLoss:0.643356\n",
            "Training Epoch: 1 [6400/60000 (11%)]\tLoss:0.454838\n",
            "Training Epoch: 1 [12800/60000 (21%)]\tLoss:0.403953\n",
            "Training Epoch: 1 [19200/60000 (32%)]\tLoss:0.480920\n",
            "Training Epoch: 1 [25600/60000 (43%)]\tLoss:0.380319\n",
            "Training Epoch: 1 [32000/60000 (53%)]\tLoss:0.338364\n",
            "Training Epoch: 1 [38400/60000 (64%)]\tLoss:0.281253\n",
            "Training Epoch: 1 [44800/60000 (75%)]\tLoss:0.383205\n",
            "Training Epoch: 1 [51200/60000 (85%)]\tLoss:0.335981\n",
            "Training Epoch: 1 [57600/60000 (96%)]\tLoss:0.375978\n",
            "\n",
            "Test set: Average Loss : 0.2994, Accuracy: 9092/10000(90.920000%)\n",
            "\n"
          ],
          "name": "stdout"
        }
      ]
    },
    {
      "cell_type": "markdown",
      "metadata": {
        "id": "jznNR60mvPdW"
      },
      "source": [
        "Evaluation\n",
        "model.train()모드로 변한 것처럼 평가할 때는 model.eval()로 설정\n",
        "batch normalization, dropout같은 layer들을 잠금"
      ]
    },
    {
      "cell_type": "code",
      "metadata": {
        "id": "2hZ9l8MRvPdW",
        "outputId": "179b61dd-6482-4e87-b24e-ef92f6342a08"
      },
      "source": [
        "model.eval()"
      ],
      "execution_count": null,
      "outputs": [
        {
          "output_type": "execute_result",
          "data": {
            "text/plain": [
              "Net(\n",
              "  (conv1): Conv2d(1, 20, kernel_size=(5, 5), stride=(1, 1))\n",
              "  (conv2): Conv2d(20, 50, kernel_size=(5, 5), stride=(1, 1))\n",
              "  (fc1): Linear(in_features=800, out_features=500, bias=True)\n",
              "  (fc2): Linear(in_features=500, out_features=10, bias=True)\n",
              ")"
            ]
          },
          "metadata": {
            "tags": []
          },
          "execution_count": 21
        }
      ]
    },
    {
      "cell_type": "markdown",
      "metadata": {
        "id": "Bb-VEHEPvPdW"
      },
      "source": [
        "autograd engine : backpropagation이나 gradient계산을 끔 : memory usage를 줄여 속도를 높임"
      ]
    },
    {
      "cell_type": "code",
      "metadata": {
        "id": "4dFzqXVcvPdW"
      },
      "source": [
        "test_loss=0\n",
        "correct=0\n",
        "\n",
        "with torch.no_grad():\n",
        "    data, target = next(iter(test_loader))\n",
        "    data, target = data.to(device), target.to(device)\n",
        "    output = model(data)\n",
        "    \n",
        "    test_loss+= F.nll_loss(output, target, reduction = 'sum').item() #이렇게 sum으로 reduction을 해주면 계산한 결과를 하나로 합쳐 \n",
        "    \n",
        "    pred = output.argmax(dim=1, keepdim=True)\n",
        "    correct = pred.eq(target.view_as(pred)).sum().item()"
      ],
      "execution_count": null,
      "outputs": []
    },
    {
      "cell_type": "code",
      "metadata": {
        "id": "bn04YUPWvPdW",
        "outputId": "f9a2509a-3140-4d22-8046-fbe855d4b1a8"
      },
      "source": [
        "test_loss"
      ],
      "execution_count": null,
      "outputs": [
        {
          "output_type": "execute_result",
          "data": {
            "text/plain": [
              "33.741512298583984"
            ]
          },
          "metadata": {
            "tags": []
          },
          "execution_count": 23
        }
      ]
    },
    {
      "cell_type": "code",
      "metadata": {
        "id": "j2Ykyy_gvPdW",
        "outputId": "aa4ce65b-616d-425e-a54f-0e9d1936e601"
      },
      "source": [
        "correct"
      ],
      "execution_count": null,
      "outputs": [
        {
          "output_type": "execute_result",
          "data": {
            "text/plain": [
              "53"
            ]
          },
          "metadata": {
            "tags": []
          },
          "execution_count": 24
        }
      ]
    },
    {
      "cell_type": "code",
      "metadata": {
        "id": "DFekGD3NvPdX",
        "outputId": "bc445612-7726-4fff-fe88-f7a00add5726"
      },
      "source": [
        "pred.shape"
      ],
      "execution_count": null,
      "outputs": [
        {
          "output_type": "execute_result",
          "data": {
            "text/plain": [
              "torch.Size([64, 1])"
            ]
          },
          "metadata": {
            "tags": []
          },
          "execution_count": 25
        }
      ]
    },
    {
      "cell_type": "code",
      "metadata": {
        "id": "jc1YZ-SxvPdX",
        "outputId": "2ee04267-31e0-4ee4-e722-2249c32226cb"
      },
      "source": [
        "output.shape"
      ],
      "execution_count": null,
      "outputs": [
        {
          "output_type": "execute_result",
          "data": {
            "text/plain": [
              "torch.Size([64, 10])"
            ]
          },
          "metadata": {
            "tags": []
          },
          "execution_count": 26
        }
      ]
    },
    {
      "cell_type": "code",
      "metadata": {
        "id": "Jm-U8-POvPdX",
        "outputId": "a97625b0-e795-4686-93a2-d65a3fc12b8c"
      },
      "source": [
        "target.view_as(pred).shape"
      ],
      "execution_count": null,
      "outputs": [
        {
          "output_type": "execute_result",
          "data": {
            "text/plain": [
              "torch.Size([64, 1])"
            ]
          },
          "metadata": {
            "tags": []
          },
          "execution_count": 27
        }
      ]
    },
    {
      "cell_type": "code",
      "metadata": {
        "id": "25nw-TKOvPdX",
        "outputId": "694e16ba-73b5-4e96-b296-13ff921635da"
      },
      "source": [
        "pred.eq(target.view_as(pred)).sum().item()/64"
      ],
      "execution_count": null,
      "outputs": [
        {
          "output_type": "execute_result",
          "data": {
            "text/plain": [
              "0.828125"
            ]
          },
          "metadata": {
            "tags": []
          },
          "execution_count": 30
        }
      ]
    },
    {
      "cell_type": "code",
      "metadata": {
        "id": "8oqT1q_EvPdX",
        "outputId": "362732e9-60a6-441e-e1c1-46bb15704521"
      },
      "source": [
        "test_loss"
      ],
      "execution_count": null,
      "outputs": [
        {
          "output_type": "execute_result",
          "data": {
            "text/plain": [
              "33.741512298583984"
            ]
          },
          "metadata": {
            "tags": []
          },
          "execution_count": 29
        }
      ]
    },
    {
      "cell_type": "code",
      "metadata": {
        "id": "c_2IKDNEvPdY",
        "outputId": "9be8f8ef-68aa-4576-dc84-f76dcf6881da"
      },
      "source": [
        "correct"
      ],
      "execution_count": null,
      "outputs": [
        {
          "output_type": "execute_result",
          "data": {
            "text/plain": [
              "53"
            ]
          },
          "metadata": {
            "tags": []
          },
          "execution_count": 31
        }
      ]
    },
    {
      "cell_type": "code",
      "metadata": {
        "id": "aWPd1W0-vPdY"
      },
      "source": [
        "test_loss /= len(test_loader.dataset)"
      ],
      "execution_count": null,
      "outputs": []
    },
    {
      "cell_type": "code",
      "metadata": {
        "id": "fzViWdZ3vPdY",
        "outputId": "6ed13ef0-319a-484f-c93b-d82ca5fd5c41"
      },
      "source": [
        "test_loss"
      ],
      "execution_count": null,
      "outputs": [
        {
          "output_type": "execute_result",
          "data": {
            "text/plain": [
              "0.0033741512298583985"
            ]
          },
          "metadata": {
            "tags": []
          },
          "execution_count": 33
        }
      ]
    },
    {
      "cell_type": "code",
      "metadata": {
        "id": "0wJl7WL4vPdY"
      },
      "source": [
        ""
      ],
      "execution_count": null,
      "outputs": []
    },
    {
      "cell_type": "code",
      "metadata": {
        "id": "cpiEu6uovPdY"
      },
      "source": [
        ""
      ],
      "execution_count": null,
      "outputs": []
    },
    {
      "cell_type": "code",
      "metadata": {
        "id": "7ipShII_vPdY",
        "outputId": "6f289aac-773f-4fc3-c44d-e8e91363193b"
      },
      "source": [
        "model.eval()\n",
        "\n",
        "test_loss = 0\n",
        "correct = 0\n",
        "\n",
        "with torch.no_grad():\n",
        "    for data, target in test_loader:\n",
        "        data, target = data.to(device), target.to(device)\n",
        "        output = model(data)\n",
        "        test_loss +=F.nll_loss(output, target, reduction ='sum').item()\n",
        "        pred = output.argmax(dim=1, keepdim=True)\n",
        "        correct += pred.eq(target.view_as(pred)).sum().item()\n",
        "        \n",
        "test_loss /= len(test_loader.dataset)\n",
        "\n",
        "print('\\nTest set: Average Loss : {:.4f}, Accuracy: {}/{}({:0f}%)\\n'.format(\n",
        "    test_loss, correct, len(test_loader.dataset), 100.*correct/len(test_loader.dataset)))"
      ],
      "execution_count": null,
      "outputs": [
        {
          "output_type": "stream",
          "text": [
            "\n",
            "Test set: Average Loss : 0.4799, Accuracy: 8662/10000(86.620000%)\n",
            "\n"
          ],
          "name": "stdout"
        }
      ]
    },
    {
      "cell_type": "code",
      "metadata": {
        "id": "wz6DaLTZvPdY"
      },
      "source": [
        ""
      ],
      "execution_count": null,
      "outputs": []
    },
    {
      "cell_type": "code",
      "metadata": {
        "id": "R_2VmMy_vPdY"
      },
      "source": [
        ""
      ],
      "execution_count": null,
      "outputs": []
    },
    {
      "cell_type": "code",
      "metadata": {
        "id": "jZyItPS-vPdY"
      },
      "source": [
        ""
      ],
      "execution_count": null,
      "outputs": []
    },
    {
      "cell_type": "code",
      "metadata": {
        "id": "7xAYykyNvPdY"
      },
      "source": [
        ""
      ],
      "execution_count": null,
      "outputs": []
    },
    {
      "cell_type": "code",
      "metadata": {
        "id": "io9ffvA4vPdY"
      },
      "source": [
        ""
      ],
      "execution_count": null,
      "outputs": []
    }
  ]
}
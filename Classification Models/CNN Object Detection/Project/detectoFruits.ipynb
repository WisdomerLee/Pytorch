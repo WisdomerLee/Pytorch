{
  "nbformat": 4,
  "nbformat_minor": 0,
  "metadata": {
    "colab": {
      "provenance": []
    },
    "kernelspec": {
      "name": "python3",
      "display_name": "Python 3"
    },
    "language_info": {
      "name": "python"
    }
  },
  "cells": [
    {
      "cell_type": "code",
      "source": [
        "!pip install detecto"
      ],
      "metadata": {
        "id": "IrngZ-ZxKqk9"
      },
      "execution_count": null,
      "outputs": []
    },
    {
      "cell_type": "code",
      "execution_count": null,
      "metadata": {
        "id": "EJTL5_HdKa4F"
      },
      "outputs": [],
      "source": [
        "from detecto import core, utils\n",
        "from detecto.visualize import show_labeled_image\n",
        "from torchvision import transforms\n",
        "import numpy as np"
      ]
    },
    {
      "cell_type": "code",
      "source": [
        "path_images = '/content/drive/MyDrive/Colab Notebooks/detecto/images'\n",
        "path_train_labels = '/content/drive/MyDrive/Colab Notebooks/detecto/train_labels'\n",
        "path_test_labels = '/content/drive/MyDrive/Colab Notebooks/detecto/test_labels'\n",
        "\n",
        "custom_transforms = transforms.Compose([\n",
        "    transforms.ToPILImage(),\n",
        "    transforms.Resize((50)),\n",
        "    transforms.RandomHorizontalFlip(),\n",
        "    transforms.RandomRotation(15),\n",
        "    transforms.ToTensor(),\n",
        "    utils.normalize_transform(),\n",
        "])\n",
        "\n",
        "trained_labels = ['apple', 'banana']\n",
        "\n",
        "train_dataset = core.Dataset(image_folder=path_images, label_data=path_train_labels, transform=custom_transforms)\n",
        "test_dataset = core.Dataset(image_folder=path_images, label_data=path_test_labels, transform=custom_transforms)\n",
        "\n",
        "train_loader = core.DataLoader(train_dataset, batch_size=2, shuffle=True)\n",
        "test_loader = core.DataLoader(test_dataset, batch_size=2, shuffle=True)\n",
        "\n"
      ],
      "metadata": {
        "id": "-ay5V-uFKzCx"
      },
      "execution_count": null,
      "outputs": []
    },
    {
      "cell_type": "code",
      "source": [
        "model = core.Model(trained_labels)\n",
        "losses = model.fit(train_loader, test_dataset, epochs=20, verbose=True)"
      ],
      "metadata": {
        "id": "NtWhbv-iMnOR"
      },
      "execution_count": null,
      "outputs": []
    },
    {
      "cell_type": "code",
      "source": [
        "test_image_path = '/content/drive/MyDrive/Colab Notebooks/detecto/images/apple_77.png'\n",
        "test_image = utils.read_image(test_image_path)\n",
        "pred = model.predict(test_image)\n",
        "labels, boxes, scores = pred\n",
        "show_labeled_image(test_image, boxes, labels)"
      ],
      "metadata": {
        "id": "PkjmNI9TM6xR"
      },
      "execution_count": null,
      "outputs": []
    },
    {
      "cell_type": "code",
      "source": [
        "#%% show image with predictions above confidence threshold\n",
        "\n",
        "conf_threshold = 0.7\n",
        "filtered_indices = np.where(scores > conf_threshold)\n",
        "filtered_scores = scores[filtered_indices]\n",
        "filtered_boxes = boxes[filtered_indices]\n",
        "num_list = filtered_indices[0].tolist()\n",
        "filtered_labels = [labels[i] for i in num_list]\n",
        "show_labeled_image(test_image, filtered_boxes, filtered_labels)"
      ],
      "metadata": {
        "id": "R1JPnl6JNM0Z"
      },
      "execution_count": null,
      "outputs": []
    }
  ]
}
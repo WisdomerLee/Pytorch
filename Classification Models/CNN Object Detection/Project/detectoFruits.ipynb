  # GPU 계산 성능이 좋지 않아 훈련이 쉽지 않을 땐.. 구글의 colab을 이용해보기

  !pip install detecto

  from detecto import core, utils
  from detecto.visualize import show_labeled_image
  from torchvision import transforms
  import numpy as np


  #

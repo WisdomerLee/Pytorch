{
  "nbformat": 4,
  "nbformat_minor": 0,
  "metadata": {
    "kernelspec": {
      "display_name": "Python 3",
      "language": "python",
      "name": "python3"
    },
    "language_info": {
      "codemirror_mode": {
        "name": "ipython",
        "version": 3
      },
      "file_extension": ".py",
      "mimetype": "text/x-python",
      "name": "python",
      "nbconvert_exporter": "python",
      "pygments_lexer": "ipython3",
      "version": "3.7.6"
    },
    "colab": {
      "name": "8Optimization_Training.ipynb",
      "provenance": [],
      "include_colab_link": true
    }
  },
  "cells": [
    {
      "cell_type": "markdown",
      "metadata": {
        "id": "view-in-github",
        "colab_type": "text"
      },
      "source": [
        "<a href=\"https://colab.research.google.com/github/WisdomerLee/Pytorch/blob/main/8Optimization_Training.ipynb\" target=\"_parent\"><img src=\"https://colab.research.google.com/assets/colab-badge.svg\" alt=\"Open In Colab\"/></a>"
      ]
    },
    {
      "cell_type": "code",
      "metadata": {
        "id": "ao1UgdGatPp-"
      },
      "source": [
        "import tensorflow as tf\n",
        "from tensorflow.keras import layers\n",
        "\n",
        "from tensorflow.keras import datasets"
      ],
      "execution_count": null,
      "outputs": []
    },
    {
      "cell_type": "markdown",
      "metadata": {
        "id": "j71KO0gEtPp-"
      },
      "source": [
        "학습과정 Data -> Model -> logit -> result\n",
        "Mnist Dataset 준비"
      ]
    },
    {
      "cell_type": "code",
      "metadata": {
        "id": "YGwwRCrytPp-"
      },
      "source": [
        "(train_x, train_y), (test_x, test_y) = datasets.mnist.load_data()"
      ],
      "execution_count": null,
      "outputs": []
    },
    {
      "cell_type": "markdown",
      "metadata": {
        "id": "WlqaSjoCtPp-"
      },
      "source": [
        "모델 만들기"
      ]
    },
    {
      "cell_type": "code",
      "metadata": {
        "id": "tkMMU8k6tPp-"
      },
      "source": [
        "inputs = layers.Input((28,28,1))\n",
        "net = layers.Conv2D(32, (3,3), padding='SAME')(inputs)\n",
        "net = layers.Activation('relu')(net)\n",
        "net = layers.Conv2D(32, (3,3), padding='SAME')(net)\n",
        "net = layers.Activation('relu')(net)\n",
        "net = layers.MaxPooling2D(pool_size = (2,2))(net)\n",
        "net = layers.Dropout(0.25)(net)\n",
        "\n",
        "net = layers.Conv2D(64, (3,3), padding='SAME')(inputs)\n",
        "net = layers.Activation('relu')(net)\n",
        "net = layers.Conv2D(64, (3,3), padding='SAME')(net)\n",
        "net = layers.Activation('relu')(net)\n",
        "net = layers.MaxPooling2D(pool_size = (2,2))(net)\n",
        "net = layers.Dropout(0.25)(net)\n",
        "\n",
        "net = layers.Flatten()(net)\n",
        "net = layers.Dense(512)(net)\n",
        "net = layers.Activation('relu')(net)\n",
        "net = layers.Dropout(0.5)(net)\n",
        "net = layers.Dense(10)(net)\n",
        "net = layers.Activation('softmax')(net)\n",
        "\n",
        "model = tf.keras.Model(inputs = inputs, outputs = net, name = 'Basic_CNN')"
      ],
      "execution_count": null,
      "outputs": []
    },
    {
      "cell_type": "markdown",
      "metadata": {
        "id": "5mb68SkstPp-"
      },
      "source": [
        "Optimization\n",
        "모델 학습 전에 최적화 설정\n",
        "Loss Function\n",
        "Optimization\n",
        "Metrics"
      ]
    },
    {
      "cell_type": "markdown",
      "metadata": {
        "id": "8fSnyd_btPp-"
      },
      "source": [
        "Loss Function\n",
        "Loss Function 확인"
      ]
    },
    {
      "cell_type": "markdown",
      "metadata": {
        "id": "y2iqqKP1tPp-"
      },
      "source": [
        "Categorical vs Binary"
      ]
    },
    {
      "cell_type": "code",
      "metadata": {
        "id": "UDce52owtPp-"
      },
      "source": [
        "loss = 'binary_crossentropy'\n",
        "loss = 'categorical_crossentropy'"
      ],
      "execution_count": null,
      "outputs": []
    },
    {
      "cell_type": "markdown",
      "metadata": {
        "id": "vE88xfTYtPp-"
      },
      "source": [
        "sparse_categorical_crossentropy vs categorical_crossentropy"
      ]
    },
    {
      "cell_type": "code",
      "metadata": {
        "id": "xLfxfCJdtPp_"
      },
      "source": [
        "loss_func = tf.keras.losses.sparse_categorical_crossentropy"
      ],
      "execution_count": null,
      "outputs": []
    },
    {
      "cell_type": "code",
      "metadata": {
        "id": "YL5geKg3tPp_",
        "outputId": "bc7809b6-9be2-48a2-d979-4e58dc9a1f8a"
      },
      "source": [
        "tf.keras.losses.categorical_crossentropy"
      ],
      "execution_count": null,
      "outputs": [
        {
          "output_type": "execute_result",
          "data": {
            "text/plain": [
              "<function tensorflow.python.keras.losses.categorical_crossentropy(y_true, y_pred, from_logits=False, label_smoothing=0)>"
            ]
          },
          "metadata": {
            "tags": []
          },
          "execution_count": 6
        }
      ]
    },
    {
      "cell_type": "code",
      "metadata": {
        "id": "V2B4QeQntPp_",
        "outputId": "7a5814ac-d6a2-4554-9f7f-b272053f5816"
      },
      "source": [
        "tf.keras.losses.binary_crossentropy"
      ],
      "execution_count": null,
      "outputs": [
        {
          "output_type": "execute_result",
          "data": {
            "text/plain": [
              "<function tensorflow.python.keras.losses.binary_crossentropy(y_true, y_pred, from_logits=False, label_smoothing=0)>"
            ]
          },
          "metadata": {
            "tags": []
          },
          "execution_count": 7
        }
      ]
    },
    {
      "cell_type": "markdown",
      "metadata": {
        "id": "8PFa1q9AtPp_"
      },
      "source": [
        "Metrics\n",
        "모델 평가방법\n",
        "accuracy를 이름으로 넣는 방법"
      ]
    },
    {
      "cell_type": "code",
      "metadata": {
        "id": "X4ZGzS7GtPp_"
      },
      "source": [
        "metrics = ['accuracy']"
      ],
      "execution_count": null,
      "outputs": []
    },
    {
      "cell_type": "markdown",
      "metadata": {
        "id": "mTnErBeWtPp_"
      },
      "source": [
        "tf.keras.metrics\n",
        "tf.keras.metrics.Accuracy()\n",
        "tf.keras.metrics.Precision()\n",
        "tf.keras.metrics.Recall()"
      ]
    },
    {
      "cell_type": "code",
      "metadata": {
        "id": "1vI4nZLptPp_"
      },
      "source": [
        "metrics = [tf.keras.metrics.Accuracy()]"
      ],
      "execution_count": null,
      "outputs": []
    },
    {
      "cell_type": "markdown",
      "metadata": {
        "id": "REOTiJ0-tPp_"
      },
      "source": [
        "Compile\n",
        "Optimizer적용\n",
        "'sgd\n",
        "'rmsprop'\n",
        "'adam'"
      ]
    },
    {
      "cell_type": "code",
      "metadata": {
        "id": "I_uaGVh9tPp_"
      },
      "source": [
        "optm = tf.keras.optimizers.Adam()"
      ],
      "execution_count": null,
      "outputs": []
    },
    {
      "cell_type": "markdown",
      "metadata": {
        "id": "wYzV8KDStPp_"
      },
      "source": [
        "tf.keras.optimizers.SGD()\n",
        "tf.keras.optimizers.RMSprop()\n",
        "tf.keras.optimizers.Adam()"
      ]
    },
    {
      "cell_type": "code",
      "metadata": {
        "id": "HMgbeKuRtPp_"
      },
      "source": [
        "model = model.compile(optimizer=tf.keras.optimizers.Adam(), loss=tf.keras.losses.sparse_categorical_crossentropy, metrics=[tf.keras.metrics.Accuracy()])"
      ],
      "execution_count": null,
      "outputs": []
    },
    {
      "cell_type": "code",
      "metadata": {
        "id": "851RnO31tPp_"
      },
      "source": [
        "model"
      ],
      "execution_count": null,
      "outputs": []
    },
    {
      "cell_type": "markdown",
      "metadata": {
        "id": "JW-JJN69tPp_"
      },
      "source": [
        "Prepare Dataset\n",
        "학습에 사용할 데이터 셋 준비\n",
        "shape 확인"
      ]
    },
    {
      "cell_type": "code",
      "metadata": {
        "id": "IRqHV2u4tPqA",
        "outputId": "a582ee2c-a3ee-4a1c-b77a-134161c0b692"
      },
      "source": [
        "train_x.shape, train_y.shape"
      ],
      "execution_count": null,
      "outputs": [
        {
          "output_type": "execute_result",
          "data": {
            "text/plain": [
              "((60000, 28, 28), (60000,))"
            ]
          },
          "metadata": {
            "tags": []
          },
          "execution_count": 12
        }
      ]
    },
    {
      "cell_type": "code",
      "metadata": {
        "id": "Ha3OnIy5tPqA",
        "outputId": "36cfe010-ed31-494f-ea54-4d618a97a36c"
      },
      "source": [
        "test_x.shape, test_y.shape"
      ],
      "execution_count": null,
      "outputs": [
        {
          "output_type": "execute_result",
          "data": {
            "text/plain": [
              "((10000, 28, 28), (10000,))"
            ]
          },
          "metadata": {
            "tags": []
          },
          "execution_count": 13
        }
      ]
    },
    {
      "cell_type": "markdown",
      "metadata": {
        "id": "wU71YIcktPqA"
      },
      "source": [
        "차원 수 늘리기"
      ]
    },
    {
      "cell_type": "code",
      "metadata": {
        "id": "lyDMfEiHtPqA"
      },
      "source": [
        "import numpy as np"
      ],
      "execution_count": null,
      "outputs": []
    },
    {
      "cell_type": "code",
      "metadata": {
        "id": "SprsZHUStPqA",
        "outputId": "3502c223-cc1d-4aeb-cbcd-065f4df5e95f"
      },
      "source": [
        "np.expand_dims(train_x, -1).shape"
      ],
      "execution_count": null,
      "outputs": [
        {
          "output_type": "execute_result",
          "data": {
            "text/plain": [
              "(60000, 28, 28, 1)"
            ]
          },
          "metadata": {
            "tags": []
          },
          "execution_count": 15
        }
      ]
    },
    {
      "cell_type": "code",
      "metadata": {
        "id": "GTi8UM-ntPqA",
        "outputId": "915744af-2c4b-42cc-b42c-fa379df1d931"
      },
      "source": [
        "tf.expand_dims(train_x, -1).shape"
      ],
      "execution_count": null,
      "outputs": [
        {
          "output_type": "execute_result",
          "data": {
            "text/plain": [
              "TensorShape([60000, 28, 28, 1])"
            ]
          },
          "metadata": {
            "tags": []
          },
          "execution_count": 16
        }
      ]
    },
    {
      "cell_type": "code",
      "metadata": {
        "id": "al-a9N9HtPqA"
      },
      "source": [
        "train_x = train_x[..., tf.newaxis]\n",
        "test_x = test_x[..., tf.newaxis]"
      ],
      "execution_count": null,
      "outputs": []
    },
    {
      "cell_type": "markdown",
      "metadata": {
        "id": "OZ0pAo74tPqA"
      },
      "source": [
        "차원수 잘 늘었는지 확인"
      ]
    },
    {
      "cell_type": "code",
      "metadata": {
        "id": "LKTc8Ai2tPqA",
        "outputId": "fd494103-36b7-472f-963d-8d7982c2ef56"
      },
      "source": [
        "train_x.shape"
      ],
      "execution_count": null,
      "outputs": [
        {
          "output_type": "execute_result",
          "data": {
            "text/plain": [
              "(60000, 28, 28, 1)"
            ]
          },
          "metadata": {
            "tags": []
          },
          "execution_count": 18
        }
      ]
    },
    {
      "cell_type": "markdown",
      "metadata": {
        "id": "SF0T50OLtPqA"
      },
      "source": [
        "Rescaling"
      ]
    },
    {
      "cell_type": "code",
      "metadata": {
        "id": "ZKZZsos9tPqA",
        "outputId": "2792a60b-92db-4ea3-fe86-36e366d89278"
      },
      "source": [
        "np.min(train_x), np.max(train_x)"
      ],
      "execution_count": null,
      "outputs": [
        {
          "output_type": "execute_result",
          "data": {
            "text/plain": [
              "(0, 255)"
            ]
          },
          "metadata": {
            "tags": []
          },
          "execution_count": 19
        }
      ]
    },
    {
      "cell_type": "code",
      "metadata": {
        "id": "_kTHd5nTtPqA"
      },
      "source": [
        "train_x = train_x / 255.\n",
        "test_x = test_x / 255."
      ],
      "execution_count": null,
      "outputs": []
    },
    {
      "cell_type": "code",
      "metadata": {
        "scrolled": true,
        "id": "S2Z3YXTWtPqA",
        "outputId": "69181a07-0967-434d-c231-47f9b83f0674"
      },
      "source": [
        "np.min(train_x), np.max(train_x)"
      ],
      "execution_count": null,
      "outputs": [
        {
          "output_type": "execute_result",
          "data": {
            "text/plain": [
              "(0.0, 1.0)"
            ]
          },
          "metadata": {
            "tags": []
          },
          "execution_count": 21
        }
      ]
    },
    {
      "cell_type": "markdown",
      "metadata": {
        "id": "UsnXe0CotPqA"
      },
      "source": [
        "Training\n",
        "본격 학습\n",
        "학습용 Hyperparameter설정\n",
        "num_epochs\n",
        "batch_size"
      ]
    },
    {
      "cell_type": "code",
      "metadata": {
        "id": "_lMmYHCYtPqA"
      },
      "source": [
        "num_epochs = 1\n",
        "batch_ = 32"
      ],
      "execution_count": null,
      "outputs": []
    },
    {
      "cell_type": "markdown",
      "metadata": {
        "id": "xJ4DLBTktPqA"
      },
      "source": [
        "model.fit"
      ]
    },
    {
      "cell_type": "code",
      "metadata": {
        "id": "PtpI2sE6tPqA",
        "outputId": "4c4d3539-3081-4b0b-d439-8d1a37da4fb4"
      },
      "source": [
        "model.fit(train_x, train_y, \n",
        "          batch_size = batch_, \n",
        "          shuffle=True, \n",
        "          epochs=num_epochs)"
      ],
      "execution_count": null,
      "outputs": [
        {
          "output_type": "error",
          "ename": "AttributeError",
          "evalue": "'NoneType' object has no attribute 'fit'",
          "traceback": [
            "\u001b[1;31m---------------------------------------------------------------------------\u001b[0m",
            "\u001b[1;31mAttributeError\u001b[0m                            Traceback (most recent call last)",
            "\u001b[1;32m<ipython-input-23-e9e0c40217c1>\u001b[0m in \u001b[0;36m<module>\u001b[1;34m\u001b[0m\n\u001b[1;32m----> 1\u001b[1;33m model.fit(train_x, train_y, \n\u001b[0m\u001b[0;32m      2\u001b[0m           \u001b[0mbatch_size\u001b[0m \u001b[1;33m=\u001b[0m \u001b[0mbatch_\u001b[0m\u001b[1;33m,\u001b[0m\u001b[1;33m\u001b[0m\u001b[1;33m\u001b[0m\u001b[0m\n\u001b[0;32m      3\u001b[0m           \u001b[0mshuffle\u001b[0m\u001b[1;33m=\u001b[0m\u001b[1;32mTrue\u001b[0m\u001b[1;33m,\u001b[0m\u001b[1;33m\u001b[0m\u001b[1;33m\u001b[0m\u001b[0m\n\u001b[0;32m      4\u001b[0m           epochs=num_epochs)\n",
            "\u001b[1;31mAttributeError\u001b[0m: 'NoneType' object has no attribute 'fit'"
          ]
        }
      ]
    },
    {
      "cell_type": "code",
      "metadata": {
        "id": "OKf7g1NktPqA"
      },
      "source": [
        ""
      ],
      "execution_count": null,
      "outputs": []
    },
    {
      "cell_type": "code",
      "metadata": {
        "id": "_Q5BU1dDtPqA"
      },
      "source": [
        ""
      ],
      "execution_count": null,
      "outputs": []
    },
    {
      "cell_type": "code",
      "metadata": {
        "id": "BjgsyCY5tPqA"
      },
      "source": [
        ""
      ],
      "execution_count": null,
      "outputs": []
    },
    {
      "cell_type": "code",
      "metadata": {
        "id": "Swv8maU-tPqA"
      },
      "source": [
        ""
      ],
      "execution_count": null,
      "outputs": []
    },
    {
      "cell_type": "code",
      "metadata": {
        "id": "PhzN1jmJtPqA"
      },
      "source": [
        ""
      ],
      "execution_count": null,
      "outputs": []
    },
    {
      "cell_type": "code",
      "metadata": {
        "id": "4Po4iRkXtPqA"
      },
      "source": [
        ""
      ],
      "execution_count": null,
      "outputs": []
    },
    {
      "cell_type": "code",
      "metadata": {
        "id": "Mq4mKIgetPqA"
      },
      "source": [
        ""
      ],
      "execution_count": null,
      "outputs": []
    },
    {
      "cell_type": "code",
      "metadata": {
        "id": "eIIjqQ6qtPqA"
      },
      "source": [
        ""
      ],
      "execution_count": null,
      "outputs": []
    },
    {
      "cell_type": "code",
      "metadata": {
        "id": "Mz4cNXkatPqA"
      },
      "source": [
        ""
      ],
      "execution_count": null,
      "outputs": []
    },
    {
      "cell_type": "code",
      "metadata": {
        "id": "rN7v7RbetPqA"
      },
      "source": [
        ""
      ],
      "execution_count": null,
      "outputs": []
    },
    {
      "cell_type": "code",
      "metadata": {
        "id": "9P5N8xk0tPqA"
      },
      "source": [
        ""
      ],
      "execution_count": null,
      "outputs": []
    },
    {
      "cell_type": "code",
      "metadata": {
        "id": "4p1tM7aXtPqA"
      },
      "source": [
        ""
      ],
      "execution_count": null,
      "outputs": []
    },
    {
      "cell_type": "code",
      "metadata": {
        "id": "-EzoKxy9tPqA"
      },
      "source": [
        ""
      ],
      "execution_count": null,
      "outputs": []
    },
    {
      "cell_type": "code",
      "metadata": {
        "id": "rJaGddLptPqA"
      },
      "source": [
        ""
      ],
      "execution_count": null,
      "outputs": []
    },
    {
      "cell_type": "code",
      "metadata": {
        "id": "T62Wul37tPqA"
      },
      "source": [
        ""
      ],
      "execution_count": null,
      "outputs": []
    },
    {
      "cell_type": "code",
      "metadata": {
        "id": "cSrt7yt9tPqA"
      },
      "source": [
        ""
      ],
      "execution_count": null,
      "outputs": []
    },
    {
      "cell_type": "code",
      "metadata": {
        "id": "dQXgj5EKtPqA"
      },
      "source": [
        ""
      ],
      "execution_count": null,
      "outputs": []
    },
    {
      "cell_type": "code",
      "metadata": {
        "id": "o54pAC4CtPqA"
      },
      "source": [
        ""
      ],
      "execution_count": null,
      "outputs": []
    },
    {
      "cell_type": "code",
      "metadata": {
        "id": "iZhqDpv8tPqA"
      },
      "source": [
        ""
      ],
      "execution_count": null,
      "outputs": []
    },
    {
      "cell_type": "code",
      "metadata": {
        "id": "jK4-SVRHtPqA"
      },
      "source": [
        ""
      ],
      "execution_count": null,
      "outputs": []
    },
    {
      "cell_type": "code",
      "metadata": {
        "id": "QtcTAv8WtPqA"
      },
      "source": [
        ""
      ],
      "execution_count": null,
      "outputs": []
    },
    {
      "cell_type": "code",
      "metadata": {
        "id": "j_ZdUrcEtPqA"
      },
      "source": [
        ""
      ],
      "execution_count": null,
      "outputs": []
    },
    {
      "cell_type": "code",
      "metadata": {
        "id": "2sic2oqetPqA"
      },
      "source": [
        ""
      ],
      "execution_count": null,
      "outputs": []
    },
    {
      "cell_type": "code",
      "metadata": {
        "id": "H1ylSlb5tPqA"
      },
      "source": [
        ""
      ],
      "execution_count": null,
      "outputs": []
    },
    {
      "cell_type": "code",
      "metadata": {
        "id": "j73ylJY9tPqA"
      },
      "source": [
        ""
      ],
      "execution_count": null,
      "outputs": []
    }
  ]
}
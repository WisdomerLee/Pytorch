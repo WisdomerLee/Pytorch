{
  "nbformat": 4,
  "nbformat_minor": 0,
  "metadata": {
    "kernelspec": {
      "display_name": "Python 3",
      "language": "python",
      "name": "python3"
    },
    "language_info": {
      "codemirror_mode": {
        "name": "ipython",
        "version": 3
      },
      "file_extension": ".py",
      "mimetype": "text/x-python",
      "name": "python",
      "nbconvert_exporter": "python",
      "pygments_lexer": "ipython3",
      "version": "3.7.6"
    },
    "colab": {
      "name": "2.basic.ipynb",
      "provenance": [],
      "include_colab_link": true
    }
  },
  "cells": [
    {
      "cell_type": "markdown",
      "metadata": {
        "id": "view-in-github",
        "colab_type": "text"
      },
      "source": [
        "<a href=\"https://colab.research.google.com/github/WisdomerLee/Pytorch/blob/main/2_basic.ipynb\" target=\"_parent\"><img src=\"https://colab.research.google.com/assets/colab-badge.svg\" alt=\"Open In Colab\"/></a>"
      ]
    },
    {
      "cell_type": "markdown",
      "metadata": {
        "id": "A6BX4IeAqvwO"
      },
      "source": [
        "#zeros & ones\n",
        "0으로 채워진 numpy array를 만들 수 있음\n"
      ]
    },
    {
      "cell_type": "code",
      "metadata": {
        "id": "RrFjloLZqvwP"
      },
      "source": [
        "import numpy as np"
      ],
      "execution_count": null,
      "outputs": []
    },
    {
      "cell_type": "code",
      "metadata": {
        "id": "LUzU3bF7qvwP",
        "outputId": "13baceac-74dc-432a-f170-49e08ae526f2"
      },
      "source": [
        "zeros = np.zeros([3,3])\n",
        "zeros"
      ],
      "execution_count": null,
      "outputs": [
        {
          "output_type": "execute_result",
          "data": {
            "text/plain": [
              "array([[0., 0., 0.],\n",
              "       [0., 0., 0.],\n",
              "       [0., 0., 0.]])"
            ]
          },
          "metadata": {
            "tags": []
          },
          "execution_count": 2
        }
      ]
    },
    {
      "cell_type": "code",
      "metadata": {
        "id": "wOmfqafdqvwQ",
        "outputId": "6de02515-f6f8-4cb4-b792-d4ba16a8af3c"
      },
      "source": [
        "zeros = np.zeros(1)\n",
        "zeros"
      ],
      "execution_count": null,
      "outputs": [
        {
          "output_type": "execute_result",
          "data": {
            "text/plain": [
              "array([0.])"
            ]
          },
          "metadata": {
            "tags": []
          },
          "execution_count": 3
        }
      ]
    },
    {
      "cell_type": "code",
      "metadata": {
        "id": "VaOmV1UuqvwQ",
        "outputId": "a7a8a0bf-d040-4c95-c9a0-d3ab0683363a"
      },
      "source": [
        "ones = np.ones([5,5])\n",
        "ones"
      ],
      "execution_count": null,
      "outputs": [
        {
          "output_type": "execute_result",
          "data": {
            "text/plain": [
              "array([[1., 1., 1., 1., 1.],\n",
              "       [1., 1., 1., 1., 1.],\n",
              "       [1., 1., 1., 1., 1.],\n",
              "       [1., 1., 1., 1., 1.],\n",
              "       [1., 1., 1., 1., 1.]])"
            ]
          },
          "metadata": {
            "tags": []
          },
          "execution_count": 4
        }
      ]
    },
    {
      "cell_type": "code",
      "metadata": {
        "id": "zrXYdX9tqvwQ",
        "outputId": "83b3f142-5b0c-4ab1-eb7f-f19b6f19bcf0"
      },
      "source": [
        "ones *5"
      ],
      "execution_count": null,
      "outputs": [
        {
          "output_type": "execute_result",
          "data": {
            "text/plain": [
              "array([[5., 5., 5., 5., 5.],\n",
              "       [5., 5., 5., 5., 5.],\n",
              "       [5., 5., 5., 5., 5.],\n",
              "       [5., 5., 5., 5., 5.],\n",
              "       [5., 5., 5., 5., 5.]])"
            ]
          },
          "metadata": {
            "tags": []
          },
          "execution_count": 5
        }
      ]
    },
    {
      "cell_type": "code",
      "metadata": {
        "id": "etFo_UmoqvwQ",
        "outputId": "146b42bd-eaaa-4def-e8f0-4819b60c9d9f"
      },
      "source": [
        "arr = np.arange(5)\n",
        "arr"
      ],
      "execution_count": null,
      "outputs": [
        {
          "output_type": "execute_result",
          "data": {
            "text/plain": [
              "array([0, 1, 2, 3, 4])"
            ]
          },
          "metadata": {
            "tags": []
          },
          "execution_count": 6
        }
      ]
    },
    {
      "cell_type": "code",
      "metadata": {
        "id": "Hq0KwbnGqvwQ",
        "outputId": "dda6ce43-f60b-4033-8eca-75e7d0969480"
      },
      "source": [
        "arr = np.arange(4,9)\n",
        "arr"
      ],
      "execution_count": null,
      "outputs": [
        {
          "output_type": "execute_result",
          "data": {
            "text/plain": [
              "array([4, 5, 6, 7, 8])"
            ]
          },
          "metadata": {
            "tags": []
          },
          "execution_count": 7
        }
      ]
    },
    {
      "cell_type": "code",
      "metadata": {
        "id": "W7x1V0iuqvwQ",
        "outputId": "84f3957c-b886-407a-c7e4-fe8c2a9d92c2"
      },
      "source": [
        "arr = np.arange(10,20)\n",
        "arr"
      ],
      "execution_count": null,
      "outputs": [
        {
          "output_type": "execute_result",
          "data": {
            "text/plain": [
              "array([10, 11, 12, 13, 14, 15, 16, 17, 18, 19])"
            ]
          },
          "metadata": {
            "tags": []
          },
          "execution_count": 8
        }
      ]
    },
    {
      "cell_type": "code",
      "metadata": {
        "id": "hg7VsfuOqvwQ",
        "outputId": "2021fe0e-e0bb-48ea-a3c5-0abf17822266"
      },
      "source": [
        "arr = np.arange(9).reshape(3,3)\n",
        "arr"
      ],
      "execution_count": null,
      "outputs": [
        {
          "output_type": "execute_result",
          "data": {
            "text/plain": [
              "array([[0, 1, 2],\n",
              "       [3, 4, 5],\n",
              "       [6, 7, 8]])"
            ]
          },
          "metadata": {
            "tags": []
          },
          "execution_count": 11
        }
      ]
    },
    {
      "cell_type": "markdown",
      "metadata": {
        "id": "neauPWMVqvwQ"
      },
      "source": [
        "#Index"
      ]
    },
    {
      "cell_type": "code",
      "metadata": {
        "id": "HaYd6AW2qvwQ",
        "outputId": "0ea3153e-9728-47fc-fb6b-8aa77392cb03"
      },
      "source": [
        "nums =[1,2,3,4,5]\n",
        "nums[2:]"
      ],
      "execution_count": null,
      "outputs": [
        {
          "output_type": "execute_result",
          "data": {
            "text/plain": [
              "[3, 4, 5]"
            ]
          },
          "metadata": {
            "tags": []
          },
          "execution_count": 12
        }
      ]
    },
    {
      "cell_type": "code",
      "metadata": {
        "id": "ACepp1ezqvwQ",
        "outputId": "3b36fa3e-621d-4bdb-90b1-b194b98c9af8"
      },
      "source": [
        "nums = [1,2,3,4,[1,3,4]]\n",
        "nums\n",
        "nums[4]"
      ],
      "execution_count": null,
      "outputs": [
        {
          "output_type": "execute_result",
          "data": {
            "text/plain": [
              "[1, 3, 4]"
            ]
          },
          "metadata": {
            "tags": []
          },
          "execution_count": 14
        }
      ]
    },
    {
      "cell_type": "code",
      "metadata": {
        "id": "e0OeZo76qvwQ",
        "outputId": "9b4d12fe-d422-4226-c86f-215721013fc8"
      },
      "source": [
        "arr[1]"
      ],
      "execution_count": null,
      "outputs": [
        {
          "output_type": "execute_result",
          "data": {
            "text/plain": [
              "array([3, 4, 5])"
            ]
          },
          "metadata": {
            "tags": []
          },
          "execution_count": 13
        }
      ]
    },
    {
      "cell_type": "code",
      "metadata": {
        "id": "ufUz-kYjqvwQ",
        "outputId": "0b80a12d-4aee-4fd4-875f-395cee5edc18"
      },
      "source": [
        "arr[1][2]"
      ],
      "execution_count": null,
      "outputs": [
        {
          "output_type": "execute_result",
          "data": {
            "text/plain": [
              "5"
            ]
          },
          "metadata": {
            "tags": []
          },
          "execution_count": 15
        }
      ]
    },
    {
      "cell_type": "code",
      "metadata": {
        "id": "ubWIXPboqvwR",
        "outputId": "773bf289-f190-47f2-cc34-d4a19cb9ee8b"
      },
      "source": [
        "arr[1,2]"
      ],
      "execution_count": null,
      "outputs": [
        {
          "output_type": "execute_result",
          "data": {
            "text/plain": [
              "5"
            ]
          },
          "metadata": {
            "tags": []
          },
          "execution_count": 16
        }
      ]
    },
    {
      "cell_type": "code",
      "metadata": {
        "id": "AfMzltR1qvwR"
      },
      "source": [
        "#Slicing"
      ],
      "execution_count": null,
      "outputs": []
    },
    {
      "cell_type": "code",
      "metadata": {
        "id": "CIsRIHWBqvwR",
        "outputId": "009af048-801f-48dc-8a2a-cf594b6fec3f"
      },
      "source": [
        "arr[1:]"
      ],
      "execution_count": null,
      "outputs": [
        {
          "output_type": "execute_result",
          "data": {
            "text/plain": [
              "array([[3, 4, 5],\n",
              "       [6, 7, 8]])"
            ]
          },
          "metadata": {
            "tags": []
          },
          "execution_count": 18
        }
      ]
    },
    {
      "cell_type": "code",
      "metadata": {
        "id": "MEvFTbBzqvwR",
        "outputId": "b4f43b9d-3cb8-4276-e533-f981b6d5b322"
      },
      "source": [
        "arr[1:, 1:]"
      ],
      "execution_count": null,
      "outputs": [
        {
          "output_type": "execute_result",
          "data": {
            "text/plain": [
              "array([[4, 5],\n",
              "       [7, 8]])"
            ]
          },
          "metadata": {
            "tags": []
          },
          "execution_count": 19
        }
      ]
    },
    {
      "cell_type": "code",
      "metadata": {
        "id": "4TiaeKDtqvwR"
      },
      "source": [
        "#boolean Indexing"
      ],
      "execution_count": null,
      "outputs": []
    },
    {
      "cell_type": "code",
      "metadata": {
        "id": "pEDoSKiUqvwR",
        "outputId": "d649a528-ced8-4365-def4-70afc45581b6"
      },
      "source": [
        "data = np.random.randn(3,3)\n",
        "data"
      ],
      "execution_count": null,
      "outputs": [
        {
          "output_type": "execute_result",
          "data": {
            "text/plain": [
              "array([[-0.19342086,  0.13041938,  1.31291639],\n",
              "       [ 1.25771593,  1.0812849 , -0.15381872],\n",
              "       [-0.29282155, -0.3321372 , -1.27693659]])"
            ]
          },
          "metadata": {
            "tags": []
          },
          "execution_count": 21
        }
      ]
    },
    {
      "cell_type": "code",
      "metadata": {
        "id": "HHe7EqMLqvwR",
        "outputId": "0f20f0a3-5e90-45c3-fe55-980279050a96"
      },
      "source": [
        "data <=0"
      ],
      "execution_count": null,
      "outputs": [
        {
          "output_type": "execute_result",
          "data": {
            "text/plain": [
              "array([[ True, False, False],\n",
              "       [False, False,  True],\n",
              "       [ True,  True,  True]])"
            ]
          },
          "metadata": {
            "tags": []
          },
          "execution_count": 22
        }
      ]
    },
    {
      "cell_type": "code",
      "metadata": {
        "id": "RI6wOi3QqvwR"
      },
      "source": [
        "data[data<=0] = 1"
      ],
      "execution_count": null,
      "outputs": []
    },
    {
      "cell_type": "code",
      "metadata": {
        "id": "Zo8rW4CwqvwR",
        "outputId": "3d86a69e-96fe-4926-e0dc-7cf5a66b137d"
      },
      "source": [
        "data"
      ],
      "execution_count": null,
      "outputs": [
        {
          "output_type": "execute_result",
          "data": {
            "text/plain": [
              "array([[1.        , 0.13041938, 1.31291639],\n",
              "       [1.25771593, 1.0812849 , 1.        ],\n",
              "       [1.        , 1.        , 1.        ]])"
            ]
          },
          "metadata": {
            "tags": []
          },
          "execution_count": 25
        }
      ]
    },
    {
      "cell_type": "markdown",
      "metadata": {
        "id": "lwSM8FckqvwR"
      },
      "source": [
        "#Broadcast\n",
        "tensorflow, pytorch로 계산: broadcast의 개념도 잘 이해해야 함....\n",
        "    broadcast: 연산하려는 서로 다른 두 개의 행렬의 shape가 다르고 한쪽의 차원이 같거나 값의 갯수가 한 개일 때 여러 복사를 하여 연산."
      ]
    },
    {
      "cell_type": "code",
      "metadata": {
        "id": "Bid736PMqvwR",
        "outputId": "c34573f8-2a36-4722-f6b1-c99e6ae110c8"
      },
      "source": [
        "arr = np.arange(9).reshape(3,3)\n",
        "arr"
      ],
      "execution_count": null,
      "outputs": [
        {
          "output_type": "execute_result",
          "data": {
            "text/plain": [
              "array([[0, 1, 2],\n",
              "       [3, 4, 5],\n",
              "       [6, 7, 8]])"
            ]
          },
          "metadata": {
            "tags": []
          },
          "execution_count": 26
        }
      ]
    },
    {
      "cell_type": "code",
      "metadata": {
        "id": "B3QYq9wBqvwR",
        "outputId": "933e5831-00ed-466e-f5bf-857c02b7e7b9"
      },
      "source": [
        "arr+3"
      ],
      "execution_count": null,
      "outputs": [
        {
          "output_type": "execute_result",
          "data": {
            "text/plain": [
              "array([[ 3,  4,  5],\n",
              "       [ 6,  7,  8],\n",
              "       [ 9, 10, 11]])"
            ]
          },
          "metadata": {
            "tags": []
          },
          "execution_count": 27
        }
      ]
    },
    {
      "cell_type": "code",
      "metadata": {
        "id": "MxMKi8zQqvwR",
        "outputId": "96d7a8a5-0860-484e-cdac-55ed7cc70631"
      },
      "source": [
        "arr*3"
      ],
      "execution_count": null,
      "outputs": [
        {
          "output_type": "execute_result",
          "data": {
            "text/plain": [
              "array([[ 0,  3,  6],\n",
              "       [ 9, 12, 15],\n",
              "       [18, 21, 24]])"
            ]
          },
          "metadata": {
            "tags": []
          },
          "execution_count": 28
        }
      ]
    },
    {
      "cell_type": "code",
      "metadata": {
        "id": "dmRBF--_qvwR",
        "outputId": "59b49d7e-da91-4efa-98c8-48ddecbc24f8"
      },
      "source": [
        "arr + np.array([1,2,3])"
      ],
      "execution_count": null,
      "outputs": [
        {
          "output_type": "execute_result",
          "data": {
            "text/plain": [
              "array([[ 1,  3,  5],\n",
              "       [ 4,  6,  8],\n",
              "       [ 7,  9, 11]])"
            ]
          },
          "metadata": {
            "tags": []
          },
          "execution_count": 29
        }
      ]
    },
    {
      "cell_type": "code",
      "metadata": {
        "id": "qCu7XYA5qvwR"
      },
      "source": [
        "#Math Function"
      ],
      "execution_count": null,
      "outputs": []
    },
    {
      "cell_type": "code",
      "metadata": {
        "id": "Di6wYFZMqvwR",
        "outputId": "610f02cb-6835-45af-83ec-804907e4e039"
      },
      "source": [
        "arr +10"
      ],
      "execution_count": null,
      "outputs": [
        {
          "output_type": "execute_result",
          "data": {
            "text/plain": [
              "array([[10, 11, 12],\n",
              "       [13, 14, 15],\n",
              "       [16, 17, 18]])"
            ]
          },
          "metadata": {
            "tags": []
          },
          "execution_count": 30
        }
      ]
    },
    {
      "cell_type": "code",
      "metadata": {
        "id": "qCeBjnH9qvwR",
        "outputId": "5ef80d4e-f084-468e-fcd3-b8818e58ef68"
      },
      "source": [
        "arr*5"
      ],
      "execution_count": null,
      "outputs": [
        {
          "output_type": "execute_result",
          "data": {
            "text/plain": [
              "array([[ 0,  5, 10],\n",
              "       [15, 20, 25],\n",
              "       [30, 35, 40]])"
            ]
          },
          "metadata": {
            "tags": []
          },
          "execution_count": 31
        }
      ]
    },
    {
      "cell_type": "code",
      "metadata": {
        "id": "pSh1mBF3qvwR",
        "outputId": "1d881872-bb29-4733-f755-5f2a9d8b7eb2"
      },
      "source": [
        "arr+ arr"
      ],
      "execution_count": null,
      "outputs": [
        {
          "output_type": "execute_result",
          "data": {
            "text/plain": [
              "array([[ 0,  2,  4],\n",
              "       [ 6,  8, 10],\n",
              "       [12, 14, 16]])"
            ]
          },
          "metadata": {
            "tags": []
          },
          "execution_count": 32
        }
      ]
    },
    {
      "cell_type": "code",
      "metadata": {
        "id": "7bTJDCS6qvwR",
        "outputId": "ce4cf647-15dc-4ac0-f590-8b1af0ee1a1d"
      },
      "source": [
        "np.add(arr, 1)"
      ],
      "execution_count": null,
      "outputs": [
        {
          "output_type": "execute_result",
          "data": {
            "text/plain": [
              "array([[1, 2, 3],\n",
              "       [4, 5, 6],\n",
              "       [7, 8, 9]])"
            ]
          },
          "metadata": {
            "tags": []
          },
          "execution_count": 33
        }
      ]
    },
    {
      "cell_type": "code",
      "metadata": {
        "id": "XWXIIy_wqvwR",
        "outputId": "fa1c66e1-cb63-463d-d103-e32ea1f91f11"
      },
      "source": [
        "arr+1"
      ],
      "execution_count": null,
      "outputs": [
        {
          "output_type": "execute_result",
          "data": {
            "text/plain": [
              "array([[1, 2, 3],\n",
              "       [4, 5, 6],\n",
              "       [7, 8, 9]])"
            ]
          },
          "metadata": {
            "tags": []
          },
          "execution_count": 34
        }
      ]
    },
    {
      "cell_type": "code",
      "metadata": {
        "id": "wDGiSdr3qvwR",
        "outputId": "f2eaeba4-b433-4281-b449-d13e7a27156f"
      },
      "source": [
        "np.multiply(arr, 3)"
      ],
      "execution_count": null,
      "outputs": [
        {
          "output_type": "execute_result",
          "data": {
            "text/plain": [
              "array([[ 0,  3,  6],\n",
              "       [ 9, 12, 15],\n",
              "       [18, 21, 24]])"
            ]
          },
          "metadata": {
            "tags": []
          },
          "execution_count": 35
        }
      ]
    },
    {
      "cell_type": "code",
      "metadata": {
        "id": "XSVg9q1kqvwR"
      },
      "source": [
        "arr = np.random.randint(2, size=27).reshape(3,3,3)\n",
        "arr_2 = np.random.randint(2, size =9).reshape(3,3)"
      ],
      "execution_count": null,
      "outputs": []
    },
    {
      "cell_type": "code",
      "metadata": {
        "id": "Yghyv-0RqvwR",
        "outputId": "1b2159a6-f67d-4efd-ff4e-f62caf2d140c"
      },
      "source": [
        "arr.shape, arr_2.shape"
      ],
      "execution_count": null,
      "outputs": [
        {
          "output_type": "execute_result",
          "data": {
            "text/plain": [
              "((3, 3, 3), (3, 3))"
            ]
          },
          "metadata": {
            "tags": []
          },
          "execution_count": 38
        }
      ]
    },
    {
      "cell_type": "code",
      "metadata": {
        "id": "Sszun01CqvwR",
        "outputId": "dfef4411-96e4-4536-ed07-5bd629b3c5f4"
      },
      "source": [
        "print(arr), print(arr_2)"
      ],
      "execution_count": null,
      "outputs": [
        {
          "output_type": "stream",
          "text": [
            "[[[1 1 0]\n",
            "  [0 0 1]\n",
            "  [0 0 1]]\n",
            "\n",
            " [[1 0 1]\n",
            "  [0 0 0]\n",
            "  [1 1 0]]\n",
            "\n",
            " [[0 0 1]\n",
            "  [0 1 0]\n",
            "  [1 0 1]]]\n",
            "[[0 0 1]\n",
            " [0 0 1]\n",
            " [0 0 0]]\n"
          ],
          "name": "stdout"
        },
        {
          "output_type": "execute_result",
          "data": {
            "text/plain": [
              "(None, None)"
            ]
          },
          "metadata": {
            "tags": []
          },
          "execution_count": 40
        }
      ]
    },
    {
      "cell_type": "code",
      "metadata": {
        "id": "Fh79OunDqvwR",
        "outputId": "d9873423-707e-4a74-dc1a-a64c437d38be"
      },
      "source": [
        "arr * arr_2"
      ],
      "execution_count": null,
      "outputs": [
        {
          "output_type": "execute_result",
          "data": {
            "text/plain": [
              "array([[[0, 0, 0],\n",
              "        [0, 0, 1],\n",
              "        [0, 0, 0]],\n",
              "\n",
              "       [[0, 0, 1],\n",
              "        [0, 0, 0],\n",
              "        [0, 0, 0]],\n",
              "\n",
              "       [[0, 0, 1],\n",
              "        [0, 0, 0],\n",
              "        [0, 0, 0]]])"
            ]
          },
          "metadata": {
            "tags": []
          },
          "execution_count": 41
        }
      ]
    },
    {
      "cell_type": "code",
      "metadata": {
        "id": "QIxuylJnqvwR",
        "outputId": "4abb4c88-579f-4e89-8cc9-d3aa75f553de"
      },
      "source": [
        "np.sum(arr)"
      ],
      "execution_count": null,
      "outputs": [
        {
          "output_type": "execute_result",
          "data": {
            "text/plain": [
              "12"
            ]
          },
          "metadata": {
            "tags": []
          },
          "execution_count": 42
        }
      ]
    },
    {
      "cell_type": "code",
      "metadata": {
        "id": "246GXDjnqvwS",
        "outputId": "025ff9c3-f7c8-40b8-90ae-e2f43d88a744"
      },
      "source": [
        "np.sum(arr+arr_2)"
      ],
      "execution_count": null,
      "outputs": [
        {
          "output_type": "execute_result",
          "data": {
            "text/plain": [
              "18"
            ]
          },
          "metadata": {
            "tags": []
          },
          "execution_count": 43
        }
      ]
    },
    {
      "cell_type": "code",
      "metadata": {
        "id": "jPunf8ADqvwS",
        "outputId": "5ab69c30-a4fd-45e5-c701-88822fa8f2d0"
      },
      "source": [
        "np.max(arr+arr_2)"
      ],
      "execution_count": null,
      "outputs": [
        {
          "output_type": "execute_result",
          "data": {
            "text/plain": [
              "2"
            ]
          },
          "metadata": {
            "tags": []
          },
          "execution_count": 44
        }
      ]
    },
    {
      "cell_type": "code",
      "metadata": {
        "id": "Fy9TR9tPqvwS",
        "outputId": "80a5091b-b72d-4ddb-c922-4be9af3fcde3"
      },
      "source": [
        "np.min(arr+arr_2)"
      ],
      "execution_count": null,
      "outputs": [
        {
          "output_type": "execute_result",
          "data": {
            "text/plain": [
              "0"
            ]
          },
          "metadata": {
            "tags": []
          },
          "execution_count": 45
        }
      ]
    },
    {
      "cell_type": "code",
      "metadata": {
        "id": "T1lFhUpqqvwS",
        "outputId": "a7479ca0-9d73-4837-d2c4-424dc91be820"
      },
      "source": [
        "np.max(arr+arr_2, 0)"
      ],
      "execution_count": null,
      "outputs": [
        {
          "output_type": "execute_result",
          "data": {
            "text/plain": [
              "array([[1, 1, 2],\n",
              "       [0, 1, 2],\n",
              "       [1, 1, 1]])"
            ]
          },
          "metadata": {
            "tags": []
          },
          "execution_count": 46
        }
      ]
    },
    {
      "cell_type": "code",
      "metadata": {
        "id": "u_BAbgp4qvwS",
        "outputId": "1c0db17e-ca0f-4c24-9db6-0be2dd1a5d49"
      },
      "source": [
        "np.max(arr+arr_2, -1)"
      ],
      "execution_count": null,
      "outputs": [
        {
          "output_type": "execute_result",
          "data": {
            "text/plain": [
              "array([[1, 2, 1],\n",
              "       [2, 1, 1],\n",
              "       [2, 1, 1]])"
            ]
          },
          "metadata": {
            "tags": []
          },
          "execution_count": 47
        }
      ]
    },
    {
      "cell_type": "code",
      "metadata": {
        "id": "78aZ6RMjqvwS",
        "outputId": "72a20e3e-a138-4834-8c53-0bc6f97ba3ba"
      },
      "source": [
        "np.sum(arr+arr_2, axis = -1)"
      ],
      "execution_count": null,
      "outputs": [
        {
          "output_type": "execute_result",
          "data": {
            "text/plain": [
              "array([[3, 2, 1],\n",
              "       [3, 1, 2],\n",
              "       [2, 2, 2]])"
            ]
          },
          "metadata": {
            "tags": []
          },
          "execution_count": 49
        }
      ]
    },
    {
      "cell_type": "code",
      "metadata": {
        "id": "3854_3uhqvwS",
        "outputId": "c8033e89-eae0-4fd7-eec6-d6f93304dcb0"
      },
      "source": [
        "np.mean(arr)"
      ],
      "execution_count": null,
      "outputs": [
        {
          "output_type": "execute_result",
          "data": {
            "text/plain": [
              "0.4444444444444444"
            ]
          },
          "metadata": {
            "tags": []
          },
          "execution_count": 50
        }
      ]
    },
    {
      "cell_type": "code",
      "metadata": {
        "id": "WQ_DPEjmqvwS",
        "outputId": "bb8cfa38-268d-4c3a-9733-0f1cc1c88c94"
      },
      "source": [
        "arr = np.array([1,2,6,3,5,7,1])\n",
        "arr"
      ],
      "execution_count": null,
      "outputs": [
        {
          "output_type": "execute_result",
          "data": {
            "text/plain": [
              "array([1, 2, 6, 3, 5, 7, 1])"
            ]
          },
          "metadata": {
            "tags": []
          },
          "execution_count": 53
        }
      ]
    },
    {
      "cell_type": "code",
      "metadata": {
        "id": "le7Wt9AIqvwS",
        "outputId": "5f383222-e5dc-4111-871a-e3dd403f297c"
      },
      "source": [
        "np.argmax(arr) # 어레이중에 가장 큰 값을 가진 인덱스"
      ],
      "execution_count": null,
      "outputs": [
        {
          "output_type": "execute_result",
          "data": {
            "text/plain": [
              "5"
            ]
          },
          "metadata": {
            "tags": []
          },
          "execution_count": 54
        }
      ]
    },
    {
      "cell_type": "code",
      "metadata": {
        "id": "k9BTfxD8qvwS",
        "outputId": "8cdd2b4a-8925-404f-ed6e-f10a35d534b1"
      },
      "source": [
        "np.argmin(arr) #배열 중에 가장 작은 값을 가진 인덱스"
      ],
      "execution_count": null,
      "outputs": [
        {
          "output_type": "execute_result",
          "data": {
            "text/plain": [
              "0"
            ]
          },
          "metadata": {
            "tags": []
          },
          "execution_count": 55
        }
      ]
    },
    {
      "cell_type": "code",
      "metadata": {
        "id": "vCp-yuvWqvwS"
      },
      "source": [
        "arr = np.array([3,5,6,6,3,1])"
      ],
      "execution_count": null,
      "outputs": []
    },
    {
      "cell_type": "code",
      "metadata": {
        "id": "2maY0gvjqvwS",
        "outputId": "27d72791-a806-45e5-b8e8-c511e8e2f3d4"
      },
      "source": [
        "np.unique(arr) #겹치는 값 빼고 숫자가 몇 종류나 있는지 확인할 때..."
      ],
      "execution_count": null,
      "outputs": [
        {
          "output_type": "execute_result",
          "data": {
            "text/plain": [
              "array([1, 3, 5, 6])"
            ]
          },
          "metadata": {
            "tags": []
          },
          "execution_count": 57
        }
      ]
    },
    {
      "cell_type": "code",
      "metadata": {
        "id": "EW85TvzGqvwS"
      },
      "source": [
        ""
      ],
      "execution_count": null,
      "outputs": []
    },
    {
      "cell_type": "code",
      "metadata": {
        "id": "cihp4eGdqvwS"
      },
      "source": [
        ""
      ],
      "execution_count": null,
      "outputs": []
    },
    {
      "cell_type": "code",
      "metadata": {
        "id": "oihuwIrQqvwS"
      },
      "source": [
        ""
      ],
      "execution_count": null,
      "outputs": []
    }
  ]
}
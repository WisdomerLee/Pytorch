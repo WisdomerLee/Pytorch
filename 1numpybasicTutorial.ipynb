{
  "nbformat": 4,
  "nbformat_minor": 0,
  "metadata": {
    "kernelspec": {
      "display_name": "Python 3",
      "language": "python",
      "name": "python3"
    },
    "language_info": {
      "codemirror_mode": {
        "name": "ipython",
        "version": 3
      },
      "file_extension": ".py",
      "mimetype": "text/x-python",
      "name": "python",
      "nbconvert_exporter": "python",
      "pygments_lexer": "ipython3",
      "version": "3.7.6"
    },
    "colab": {
      "name": "1numpybasicTutorial.ipynb",
      "provenance": [],
      "include_colab_link": true
    }
  },
  "cells": [
    {
      "cell_type": "markdown",
      "metadata": {
        "id": "view-in-github",
        "colab_type": "text"
      },
      "source": [
        "<a href=\"https://colab.research.google.com/github/WisdomerLee/Pytorch/blob/main/1numpybasicTutorial.ipynb\" target=\"_parent\"><img src=\"https://colab.research.google.com/assets/colab-badge.svg\" alt=\"Open In Colab\"/></a>"
      ]
    },
    {
      "cell_type": "markdown",
      "metadata": {
        "id": "JBLtCTLFqmm-"
      },
      "source": [
        "Numpy Basic"
      ]
    },
    {
      "cell_type": "code",
      "metadata": {
        "id": "zcKjJ7LMqmm-"
      },
      "source": [
        "import numpy as np"
      ],
      "execution_count": null,
      "outputs": []
    },
    {
      "cell_type": "markdown",
      "metadata": {
        "id": "817mQ9Nuqmm_"
      },
      "source": [
        "data type\n",
        "array의 dtype을 보기"
      ]
    },
    {
      "cell_type": "code",
      "metadata": {
        "id": "71yH5yBeqmm_"
      },
      "source": [
        "arr = np.array([[1,2,3,],[5,6,7]])"
      ],
      "execution_count": null,
      "outputs": []
    },
    {
      "cell_type": "code",
      "metadata": {
        "id": "v8ZDoJWCqmm_",
        "outputId": "1fd620e8-5418-421f-ed2b-9068595af9a6"
      },
      "source": [
        "arr.dtype"
      ],
      "execution_count": null,
      "outputs": [
        {
          "output_type": "execute_result",
          "data": {
            "text/plain": [
              "dtype('int32')"
            ]
          },
          "metadata": {
            "tags": []
          },
          "execution_count": 3
        }
      ]
    },
    {
      "cell_type": "markdown",
      "metadata": {
        "id": "c23dbahYqmnA"
      },
      "source": [
        ".astype()으로 datatype을 변환 가능"
      ]
    },
    {
      "cell_type": "code",
      "metadata": {
        "id": "_MWMGakJqmnA",
        "outputId": "108148fb-1a55-4bc7-ebcf-007946533b0b"
      },
      "source": [
        "arr.astype('float32')"
      ],
      "execution_count": null,
      "outputs": [
        {
          "output_type": "execute_result",
          "data": {
            "text/plain": [
              "array([[1., 2., 3.],\n",
              "       [5., 6., 7.]], dtype=float32)"
            ]
          },
          "metadata": {
            "tags": []
          },
          "execution_count": 4
        }
      ]
    },
    {
      "cell_type": "code",
      "metadata": {
        "id": "fCXmR1xzqmnA",
        "outputId": "2e42bf0d-499a-4aef-de81-9dd5009a9f31"
      },
      "source": [
        "arr.astype(np.int32)"
      ],
      "execution_count": null,
      "outputs": [
        {
          "output_type": "execute_result",
          "data": {
            "text/plain": [
              "array([[1, 2, 3],\n",
              "       [5, 6, 7]])"
            ]
          },
          "metadata": {
            "tags": []
          },
          "execution_count": 5
        }
      ]
    },
    {
      "cell_type": "code",
      "metadata": {
        "id": "mrzoQb6qqmnA",
        "outputId": "be6bb2e8-3ebd-47ed-f3a8-74b0b4b84f14"
      },
      "source": [
        "arr.dtype"
      ],
      "execution_count": null,
      "outputs": [
        {
          "output_type": "execute_result",
          "data": {
            "text/plain": [
              "dtype('int32')"
            ]
          },
          "metadata": {
            "tags": []
          },
          "execution_count": 6
        }
      ]
    },
    {
      "cell_type": "code",
      "metadata": {
        "id": "KU-R20qmqmnA",
        "outputId": "62e9ba8e-552e-4432-8834-421617dcb969"
      },
      "source": [
        "arr = np.array([[1,2,3], [8,0,3]], dtype=np.uint8)\n",
        "arr.dtype"
      ],
      "execution_count": null,
      "outputs": [
        {
          "output_type": "execute_result",
          "data": {
            "text/plain": [
              "dtype('uint8')"
            ]
          },
          "metadata": {
            "tags": []
          },
          "execution_count": 8
        }
      ]
    },
    {
      "cell_type": "code",
      "metadata": {
        "id": "EZtrrby4qmnA",
        "outputId": "fc82d580-d13b-439d-8b47-d8ed307bac0d"
      },
      "source": [
        "len(arr.shape)"
      ],
      "execution_count": null,
      "outputs": [
        {
          "output_type": "execute_result",
          "data": {
            "text/plain": [
              "2"
            ]
          },
          "metadata": {
            "tags": []
          },
          "execution_count": 9
        }
      ]
    },
    {
      "cell_type": "code",
      "metadata": {
        "id": "UqcWiU3RqmnA",
        "outputId": "62032064-f6ef-4856-f363-55d78929baeb"
      },
      "source": [
        "arr.shape"
      ],
      "execution_count": null,
      "outputs": [
        {
          "output_type": "execute_result",
          "data": {
            "text/plain": [
              "(2, 3)"
            ]
          },
          "metadata": {
            "tags": []
          },
          "execution_count": 10
        }
      ]
    },
    {
      "cell_type": "markdown",
      "metadata": {
        "id": "eTLbwB6vqmnA"
      },
      "source": [
        "Reshape"
      ]
    },
    {
      "cell_type": "code",
      "metadata": {
        "id": "G4ulwLiOqmnB",
        "outputId": "7057a5c2-7e48-4767-cddd-d26f74062fc2"
      },
      "source": [
        "arr.shape"
      ],
      "execution_count": null,
      "outputs": [
        {
          "output_type": "execute_result",
          "data": {
            "text/plain": [
              "(2, 3)"
            ]
          },
          "metadata": {
            "tags": []
          },
          "execution_count": 12
        }
      ]
    },
    {
      "cell_type": "code",
      "metadata": {
        "id": "QuY8r4esqmnB",
        "outputId": "303cb815-dfaf-4bc5-9d69-0da6e3c1de46"
      },
      "source": [
        "arr = arr.reshape([1,6])\n",
        "arr.shape"
      ],
      "execution_count": null,
      "outputs": [
        {
          "output_type": "execute_result",
          "data": {
            "text/plain": [
              "(1, 6)"
            ]
          },
          "metadata": {
            "tags": []
          },
          "execution_count": 15
        }
      ]
    },
    {
      "cell_type": "code",
      "metadata": {
        "id": "ioPN1WBXqmnB",
        "outputId": "6ec7c31d-74fd-467c-b2b7-df2a31af55b0"
      },
      "source": [
        "arr = np.array([[1,2,3], [6,7,8]])\n",
        "arr.reshape([6]).shape"
      ],
      "execution_count": null,
      "outputs": [
        {
          "output_type": "execute_result",
          "data": {
            "text/plain": [
              "(6,)"
            ]
          },
          "metadata": {
            "tags": []
          },
          "execution_count": 16
        }
      ]
    },
    {
      "cell_type": "markdown",
      "metadata": {
        "id": "y1TlHsCDqmnB"
      },
      "source": [
        "Reshape, -1 활용"
      ]
    },
    {
      "cell_type": "code",
      "metadata": {
        "id": "47s1gSKGqmnB",
        "outputId": "234142e1-ace4-409d-efba-1f0a8c6ef7e0"
      },
      "source": [
        "arr = arr.reshape(-1)\n",
        "arr.shape"
      ],
      "execution_count": null,
      "outputs": [
        {
          "output_type": "execute_result",
          "data": {
            "text/plain": [
              "(6,)"
            ]
          },
          "metadata": {
            "tags": []
          },
          "execution_count": 17
        }
      ]
    },
    {
      "cell_type": "code",
      "metadata": {
        "id": "1dTHRhBqqmnB",
        "outputId": "5d686864-dfe7-4fd7-e77a-603e0ed8eae0"
      },
      "source": [
        "arr = arr.reshape(-1, 3)\n",
        "arr.shape"
      ],
      "execution_count": null,
      "outputs": [
        {
          "output_type": "execute_result",
          "data": {
            "text/plain": [
              "(2, 3)"
            ]
          },
          "metadata": {
            "tags": []
          },
          "execution_count": 18
        }
      ]
    },
    {
      "cell_type": "code",
      "metadata": {
        "id": "EgZ319OJqmnB",
        "outputId": "7f9d83d4-e232-4d94-da9f-3db937e4ca32"
      },
      "source": [
        "arr = arr.reshape(3, -1)\n",
        "arr.shape"
      ],
      "execution_count": null,
      "outputs": [
        {
          "output_type": "execute_result",
          "data": {
            "text/plain": [
              "(3, 2)"
            ]
          },
          "metadata": {
            "tags": []
          },
          "execution_count": 20
        }
      ]
    },
    {
      "cell_type": "markdown",
      "metadata": {
        "id": "OYnARgp7qmnB"
      },
      "source": [
        "Random array 생성"
      ]
    },
    {
      "cell_type": "code",
      "metadata": {
        "id": "c0NNnqZ8qmnB",
        "outputId": "4452391d-50f8-4db9-a68e-9a3b58562a93"
      },
      "source": [
        "arr= np.random.randn(8,8)\n",
        "arr.shape"
      ],
      "execution_count": null,
      "outputs": [
        {
          "output_type": "execute_result",
          "data": {
            "text/plain": [
              "(8, 8)"
            ]
          },
          "metadata": {
            "tags": []
          },
          "execution_count": 21
        }
      ]
    },
    {
      "cell_type": "code",
      "metadata": {
        "id": "dz8f2BVLqmnB",
        "outputId": "c00db452-db26-4eb2-c901-1b29089038a1"
      },
      "source": [
        "arr = arr.reshape([32, 2])\n",
        "arr.shape"
      ],
      "execution_count": null,
      "outputs": [
        {
          "output_type": "execute_result",
          "data": {
            "text/plain": [
              "(32, 2)"
            ]
          },
          "metadata": {
            "tags": []
          },
          "execution_count": 22
        }
      ]
    },
    {
      "cell_type": "markdown",
      "metadata": {
        "id": "UwULK55YqmnB"
      },
      "source": [
        "3차원으로 늘리기"
      ]
    },
    {
      "cell_type": "code",
      "metadata": {
        "id": "LZqSqgXRqmnB",
        "outputId": "c1c9d1c2-ab40-4350-d3df-d859714b76ed"
      },
      "source": [
        "arr = arr.reshape(-1, 2,1,1,2,1,)\n",
        "arr.shape"
      ],
      "execution_count": null,
      "outputs": [
        {
          "output_type": "execute_result",
          "data": {
            "text/plain": [
              "(16, 2, 1, 1, 2, 1)"
            ]
          },
          "metadata": {
            "tags": []
          },
          "execution_count": 23
        }
      ]
    },
    {
      "cell_type": "markdown",
      "metadata": {
        "id": "WPfe6fQTqmnB"
      },
      "source": [
        "Ravel : 1차원으로 늘리기... layer를 flatten할 때 같은 기능...."
      ]
    },
    {
      "cell_type": "code",
      "metadata": {
        "id": "QRUkFiK1qmnB",
        "outputId": "bdc1d271-36f5-4859-8f3b-9323a57fa983"
      },
      "source": [
        "arr.shape"
      ],
      "execution_count": null,
      "outputs": [
        {
          "output_type": "execute_result",
          "data": {
            "text/plain": [
              "(16, 2, 1, 1, 2, 1)"
            ]
          },
          "metadata": {
            "tags": []
          },
          "execution_count": 24
        }
      ]
    },
    {
      "cell_type": "code",
      "metadata": {
        "id": "3LdYtVxRqmnB",
        "outputId": "a5ade28f-1130-423e-9b96-bd31863b26e5"
      },
      "source": [
        "arr = arr.ravel()\n",
        "arr.shape"
      ],
      "execution_count": null,
      "outputs": [
        {
          "output_type": "execute_result",
          "data": {
            "text/plain": [
              "(64,)"
            ]
          },
          "metadata": {
            "tags": []
          },
          "execution_count": 25
        }
      ]
    },
    {
      "cell_type": "code",
      "metadata": {
        "id": "5SpIMIF5qmnB",
        "outputId": "cb3afc1f-4a26-4992-9b56-1295956b7abf"
      },
      "source": [
        "arr.ravel() == arr.reshape(-1)"
      ],
      "execution_count": null,
      "outputs": [
        {
          "output_type": "execute_result",
          "data": {
            "text/plain": [
              "array([ True,  True,  True,  True,  True,  True,  True,  True,  True,\n",
              "        True,  True,  True,  True,  True,  True,  True,  True,  True,\n",
              "        True,  True,  True,  True,  True,  True,  True,  True,  True,\n",
              "        True,  True,  True,  True,  True,  True,  True,  True,  True,\n",
              "        True,  True,  True,  True,  True,  True,  True,  True,  True,\n",
              "        True,  True,  True,  True,  True,  True,  True,  True,  True,\n",
              "        True,  True,  True,  True,  True,  True,  True,  True,  True,\n",
              "        True])"
            ]
          },
          "metadata": {
            "tags": []
          },
          "execution_count": 26
        }
      ]
    },
    {
      "cell_type": "markdown",
      "metadata": {
        "id": "eAeviyFuqmnB"
      },
      "source": [
        "np.expand_dims()\n",
        "값은 유지하되 차원 숫자를 늘리고 싶을 때\n"
      ]
    },
    {
      "cell_type": "code",
      "metadata": {
        "id": "TNNh3NebqmnB",
        "outputId": "ecbe7f44-899f-4bda-ab6e-96aa867420d6"
      },
      "source": [
        "arr.shape"
      ],
      "execution_count": null,
      "outputs": [
        {
          "output_type": "execute_result",
          "data": {
            "text/plain": [
              "(64,)"
            ]
          },
          "metadata": {
            "tags": []
          },
          "execution_count": 27
        }
      ]
    },
    {
      "cell_type": "code",
      "metadata": {
        "id": "vl5Q1AIXqmnB",
        "outputId": "e5798bdf-1ca1-4df1-bc34-c061c90ae501"
      },
      "source": [
        "arr = np.expand_dims(arr, -1)\n",
        "arr.shape"
      ],
      "execution_count": null,
      "outputs": [
        {
          "output_type": "execute_result",
          "data": {
            "text/plain": [
              "(64, 1)"
            ]
          },
          "metadata": {
            "tags": []
          },
          "execution_count": 28
        }
      ]
    },
    {
      "cell_type": "code",
      "metadata": {
        "id": "j-Xvzjf2qmnB",
        "outputId": "205e8cce-545a-43da-edd9-bb08ce9b7a04"
      },
      "source": [
        "arr= np.expand_dims(np.expand_dims(arr, -1), 0)\n",
        "arr.shape"
      ],
      "execution_count": null,
      "outputs": [
        {
          "output_type": "execute_result",
          "data": {
            "text/plain": [
              "(1, 1, 64, 1, 1, 1)"
            ]
          },
          "metadata": {
            "tags": []
          },
          "execution_count": 30
        }
      ]
    },
    {
      "cell_type": "code",
      "metadata": {
        "id": "mIJSr8U8qmnB"
      },
      "source": [
        ""
      ],
      "execution_count": null,
      "outputs": []
    },
    {
      "cell_type": "code",
      "metadata": {
        "id": "Onns7SBfqmnB"
      },
      "source": [
        ""
      ],
      "execution_count": null,
      "outputs": []
    },
    {
      "cell_type": "code",
      "metadata": {
        "id": "_rkI7MvJqmnB"
      },
      "source": [
        ""
      ],
      "execution_count": null,
      "outputs": []
    },
    {
      "cell_type": "code",
      "metadata": {
        "id": "NNUyiXwFqmnB"
      },
      "source": [
        ""
      ],
      "execution_count": null,
      "outputs": []
    }
  ]
}
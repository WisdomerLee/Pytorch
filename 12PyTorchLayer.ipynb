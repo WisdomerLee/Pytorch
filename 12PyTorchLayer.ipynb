{
  "nbformat": 4,
  "nbformat_minor": 0,
  "metadata": {
    "kernelspec": {
      "display_name": "Python 3",
      "language": "python",
      "name": "python3"
    },
    "language_info": {
      "codemirror_mode": {
        "name": "ipython",
        "version": 3
      },
      "file_extension": ".py",
      "mimetype": "text/x-python",
      "name": "python",
      "nbconvert_exporter": "python",
      "pygments_lexer": "ipython3",
      "version": "3.7.6"
    },
    "colab": {
      "name": "12PyTorchLayer.ipynb",
      "provenance": [],
      "include_colab_link": true
    }
  },
  "cells": [
    {
      "cell_type": "markdown",
      "metadata": {
        "id": "view-in-github",
        "colab_type": "text"
      },
      "source": [
        "<a href=\"https://colab.research.google.com/github/WisdomerLee/Pytorch/blob/main/12PyTorchLayer.ipynb\" target=\"_parent\"><img src=\"https://colab.research.google.com/assets/colab-badge.svg\" alt=\"Open In Colab\"/></a>"
      ]
    },
    {
      "cell_type": "markdown",
      "metadata": {
        "id": "MIEoV_j-vFrw"
      },
      "source": [
        "PyTorch Layer 이해하기\n",
        "예제 불러오기"
      ]
    },
    {
      "cell_type": "code",
      "metadata": {
        "id": "iXbLxGaWvFrw"
      },
      "source": [
        "import torch\n",
        "from torchvision import datasets, transforms"
      ],
      "execution_count": null,
      "outputs": []
    },
    {
      "cell_type": "code",
      "metadata": {
        "id": "Qc9O8mc5vFrx"
      },
      "source": [
        "from PIL import Image\n",
        "import numpy as np\n",
        "import matplotlib.pyplot as plt\n",
        "\n",
        "%matplotlib inline"
      ],
      "execution_count": null,
      "outputs": []
    },
    {
      "cell_type": "code",
      "metadata": {
        "id": "NN0ZAY8qvFrx"
      },
      "source": [
        "train_loader = torch.utils.data.DataLoader(\n",
        "    datasets.MNIST('dataset', train=True, download=True,\n",
        "                  transform=transforms.Compose([\n",
        "                      transforms.ToTensor()\n",
        "                  ])),\n",
        "    batch_size=1)"
      ],
      "execution_count": null,
      "outputs": []
    },
    {
      "cell_type": "code",
      "metadata": {
        "id": "3CsCGNOvvFrx"
      },
      "source": [
        "image, label = next(iter(train_loader))"
      ],
      "execution_count": null,
      "outputs": []
    },
    {
      "cell_type": "code",
      "metadata": {
        "id": "PQ-blfW9vFrx",
        "outputId": "21fdd3f6-a8fc-43a8-f6a6-d610ef0ca7b3"
      },
      "source": [
        "image.shape, label.shape"
      ],
      "execution_count": null,
      "outputs": [
        {
          "output_type": "execute_result",
          "data": {
            "text/plain": [
              "(torch.Size([1, 1, 28, 28]), torch.Size([1]))"
            ]
          },
          "metadata": {
            "tags": []
          },
          "execution_count": 5
        }
      ]
    },
    {
      "cell_type": "code",
      "metadata": {
        "id": "SJM0nnd2vFr0",
        "outputId": "d14bcb48-90f6-4c66-d746-4feb4398913f"
      },
      "source": [
        "plt.imshow(image[0,0,:,:], 'gray')\n",
        "plt.show()"
      ],
      "execution_count": null,
      "outputs": [
        {
          "output_type": "display_data",
          "data": {
            "image/png": "[encoded data removed]",
            "text/plain": [
              "<Figure size 432x288 with 1 Axes>"
            ]
          },
          "metadata": {
            "tags": [],
            "needs_background": "light"
          }
        }
      ]
    },
    {
      "cell_type": "markdown",
      "metadata": {
        "id": "vcw2J_VevFr0"
      },
      "source": [
        "각 Layer 별 설명\n",
        "Network 쌓기 위한 준비"
      ]
    },
    {
      "cell_type": "code",
      "metadata": {
        "id": "90UnKtJcvFr0"
      },
      "source": [
        "import torch\n",
        "import torch.nn as nn\n",
        "import torch.nn.functional as F\n",
        "import torch.optim as optim"
      ],
      "execution_count": null,
      "outputs": []
    },
    {
      "cell_type": "markdown",
      "metadata": {
        "id": "scONYZCZvFr0"
      },
      "source": [
        "Convolution\n",
        "in_channels:받게될 channel 갯수\n",
        "out_channels: 보내고 싶은 channel 갯수\n",
        "kernel_size: 만들고 싶은 kernel(weights)의 크기"
      ]
    },
    {
      "cell_type": "code",
      "metadata": {
        "id": "ClJ13XVgvFr0",
        "outputId": "f84d11a8-505e-4051-f993-5b1eeb63a3f7"
      },
      "source": [
        "nn.Conv2d(in_channels=1, out_channels=20, kernel_size=5, stride=1)"
      ],
      "execution_count": null,
      "outputs": [
        {
          "output_type": "execute_result",
          "data": {
            "text/plain": [
              "Conv2d(1, 20, kernel_size=(5, 5), stride=(1, 1))"
            ]
          },
          "metadata": {
            "tags": []
          },
          "execution_count": 8
        }
      ]
    },
    {
      "cell_type": "code",
      "metadata": {
        "id": "VDozs-rivFr1",
        "outputId": "89057b28-8b49-455c-df37-02423b7eaa17"
      },
      "source": [
        "layer = nn.Conv2d(1,20,5,1).to(torch.device('cpu'))\n",
        "layer"
      ],
      "execution_count": null,
      "outputs": [
        {
          "output_type": "execute_result",
          "data": {
            "text/plain": [
              "Conv2d(1, 20, kernel_size=(5, 5), stride=(1, 1))"
            ]
          },
          "metadata": {
            "tags": []
          },
          "execution_count": 9
        }
      ]
    },
    {
      "cell_type": "markdown",
      "metadata": {
        "id": "pQQmj4QLvFr1"
      },
      "source": [
        "weight 시각화를 위해 slice하고 numpy화"
      ]
    },
    {
      "cell_type": "code",
      "metadata": {
        "id": "ZS0lmWOjvFr1",
        "outputId": "c713f70b-93e1-41b3-e8b4-83b0b6f9d6e5"
      },
      "source": [
        "weight= layer.weight\n",
        "weight.shape"
      ],
      "execution_count": null,
      "outputs": [
        {
          "output_type": "execute_result",
          "data": {
            "text/plain": [
              "torch.Size([20, 1, 5, 5])"
            ]
          },
          "metadata": {
            "tags": []
          },
          "execution_count": 10
        }
      ]
    },
    {
      "cell_type": "markdown",
      "metadata": {
        "id": "EBHTIh-nvFr2"
      },
      "source": [
        "여기서 weight는 학습 가능한 상태: 바로 numpy로 뽑을 수 없음\n",
        "detach()메소드는 그래프에서 잠깐 빼어 gradient에 영향을 받지 않게.."
      ]
    },
    {
      "cell_type": "code",
      "metadata": {
        "id": "tMvJ05N0vFr2"
      },
      "source": [
        "weight=weight.detach().numpy()"
      ],
      "execution_count": null,
      "outputs": []
    },
    {
      "cell_type": "code",
      "metadata": {
        "id": "mVxNGZ3UvFr2",
        "outputId": "4753f662-10f0-40f1-dfa2-fb940fd1b56b"
      },
      "source": [
        "weight.shape"
      ],
      "execution_count": null,
      "outputs": [
        {
          "output_type": "execute_result",
          "data": {
            "text/plain": [
              "(20, 1, 5, 5)"
            ]
          },
          "metadata": {
            "tags": []
          },
          "execution_count": 12
        }
      ]
    },
    {
      "cell_type": "code",
      "metadata": {
        "id": "jmMa4i1SvFr2",
        "outputId": "16a11823-3a5b-4ce6-aaa2-ac45db567d83"
      },
      "source": [
        "plt.imshow(weight[0,0,:,:], 'jet')\n",
        "plt.colorbar()\n",
        "plt.show()"
      ],
      "execution_count": null,
      "outputs": [
        {
          "output_type": "display_data",
          "data": {
            "image/png": "[encoded data removed]",
            "text/plain": [
              "<Figure size 432x288 with 2 Axes>"
            ]
          },
          "metadata": {
            "tags": [],
            "needs_background": "light"
          }
        }
      ]
    },
    {
      "cell_type": "markdown",
      "metadata": {
        "id": "ufQ9IZizvFr2"
      },
      "source": [
        "output 시각화 준비를 위해 numpy화"
      ]
    },
    {
      "cell_type": "code",
      "metadata": {
        "id": "sECdJ3sLvFr2"
      },
      "source": [
        "output_data= layer(image)"
      ],
      "execution_count": null,
      "outputs": []
    },
    {
      "cell_type": "code",
      "metadata": {
        "id": "ESPR41yVvFr2"
      },
      "source": [
        "output_data = output_data.data"
      ],
      "execution_count": null,
      "outputs": []
    },
    {
      "cell_type": "code",
      "metadata": {
        "id": "2MkP2PWVvFr2"
      },
      "source": [
        "output = output_data.cpu().numpy()"
      ],
      "execution_count": null,
      "outputs": []
    },
    {
      "cell_type": "code",
      "metadata": {
        "id": "0vfURoPSvFr2",
        "outputId": "c53ada65-638e-422c-b6fb-99e03d0c298e"
      },
      "source": [
        "output.shape"
      ],
      "execution_count": null,
      "outputs": [
        {
          "output_type": "execute_result",
          "data": {
            "text/plain": [
              "(1, 20, 24, 24)"
            ]
          },
          "metadata": {
            "tags": []
          },
          "execution_count": 17
        }
      ]
    },
    {
      "cell_type": "markdown",
      "metadata": {
        "id": "_lusSCWmvFr3"
      },
      "source": [
        "input으로 들어간 이미지 numpy화"
      ]
    },
    {
      "cell_type": "code",
      "metadata": {
        "id": "eRu9iM87vFr3",
        "outputId": "53495b8e-d4d4-4f64-d12b-49454cf5047f"
      },
      "source": [
        "image_arr=image.numpy()\n",
        "image_arr.shape"
      ],
      "execution_count": null,
      "outputs": [
        {
          "output_type": "execute_result",
          "data": {
            "text/plain": [
              "(1, 1, 28, 28)"
            ]
          },
          "metadata": {
            "tags": []
          },
          "execution_count": 18
        }
      ]
    },
    {
      "cell_type": "code",
      "metadata": {
        "id": "gbCWLI5-vFr3",
        "outputId": "c6d2cad2-645f-4ede-8686-23bc68ab3ad3"
      },
      "source": [
        "plt.figure(figsize=(15,30))\n",
        "plt.subplot(131)\n",
        "plt.title('Input')\n",
        "plt.imshow(np.squeeze(image_arr), 'gray')\n",
        "plt.subplot(132)\n",
        "plt.title('Weight')\n",
        "plt.imshow(weight[0,0,:,:], 'jet')\n",
        "plt.subplot(133)\n",
        "plt.title('Output')\n",
        "plt.imshow(output[0,0,:,:], 'gray')\n",
        "plt.show()"
      ],
      "execution_count": null,
      "outputs": [
        {
          "output_type": "display_data",
          "data": {
            "image/png": "[encoded data removed]",
            "text/plain": [
              "<Figure size 1080x2160 with 3 Axes>"
            ]
          },
          "metadata": {
            "tags": [],
            "needs_background": "light"
          }
        }
      ]
    },
    {
      "cell_type": "code",
      "metadata": {
        "id": "oxdQuneevFr3"
      },
      "source": [
        ""
      ],
      "execution_count": null,
      "outputs": []
    },
    {
      "cell_type": "code",
      "metadata": {
        "id": "-V-PCAr2vFr3"
      },
      "source": [
        ""
      ],
      "execution_count": null,
      "outputs": []
    },
    {
      "cell_type": "markdown",
      "metadata": {
        "id": "_es4HKCRvFr3"
      },
      "source": [
        "Pooling\n",
        "input을 앞에 넣고 뒤에 kernel크기, stride를 순서대로"
      ]
    },
    {
      "cell_type": "code",
      "metadata": {
        "id": "OYsGOUo1vFr3",
        "outputId": "f20c60ad-d15f-483f-b1cd-5c0ca4996181"
      },
      "source": [
        "image.shape"
      ],
      "execution_count": null,
      "outputs": [
        {
          "output_type": "execute_result",
          "data": {
            "text/plain": [
              "torch.Size([1, 1, 28, 28])"
            ]
          },
          "metadata": {
            "tags": []
          },
          "execution_count": 20
        }
      ]
    },
    {
      "cell_type": "code",
      "metadata": {
        "id": "oRZDtF6pvFr3",
        "outputId": "5d10e7b6-6e30-43da-f616-49f57f279cae"
      },
      "source": [
        "pool = F.max_pool2d(image, 2,2)\n",
        "pool.shape"
      ],
      "execution_count": null,
      "outputs": [
        {
          "output_type": "execute_result",
          "data": {
            "text/plain": [
              "torch.Size([1, 1, 14, 14])"
            ]
          },
          "metadata": {
            "tags": []
          },
          "execution_count": 21
        }
      ]
    },
    {
      "cell_type": "code",
      "metadata": {
        "id": "UaS1YWvnvFr3"
      },
      "source": [
        ""
      ],
      "execution_count": null,
      "outputs": []
    },
    {
      "cell_type": "markdown",
      "metadata": {
        "id": "lXelHgFvvFr4"
      },
      "source": [
        "MaxPool Layer는 weight가 없으므로 바로 numpy()가 가능"
      ]
    },
    {
      "cell_type": "code",
      "metadata": {
        "id": "WIharurcvFr4",
        "outputId": "3856ace2-3418-4cf6-cf7e-644e0207bf3e"
      },
      "source": [
        "pool_arr=pool.numpy()\n",
        "pool_arr.shape"
      ],
      "execution_count": null,
      "outputs": [
        {
          "output_type": "execute_result",
          "data": {
            "text/plain": [
              "(1, 1, 14, 14)"
            ]
          },
          "metadata": {
            "tags": []
          },
          "execution_count": 22
        }
      ]
    },
    {
      "cell_type": "code",
      "metadata": {
        "id": "iSdyTWJ_vFr4",
        "outputId": "c6112b35-b321-4cbe-e760-fa4496691954"
      },
      "source": [
        "image_arr.shape"
      ],
      "execution_count": null,
      "outputs": [
        {
          "output_type": "execute_result",
          "data": {
            "text/plain": [
              "(1, 1, 28, 28)"
            ]
          },
          "metadata": {
            "tags": []
          },
          "execution_count": 23
        }
      ]
    },
    {
      "cell_type": "code",
      "metadata": {
        "id": "roYkOG12vFr4",
        "outputId": "36cea52b-8a02-48b6-f5d4-72ff2087265a"
      },
      "source": [
        "plt.figure(figsize=(10,15))\n",
        "plt.subplot(121)\n",
        "plt.title('Input')\n",
        "plt.imshow(np.squeeze(image_arr), 'gray')\n",
        "plt.subplot(122)\n",
        "plt.title('Output')\n",
        "plt.imshow(np.squeeze(pool_arr), 'gray')\n",
        "plt.show()"
      ],
      "execution_count": null,
      "outputs": [
        {
          "output_type": "display_data",
          "data": {
            "image/png": "[encoded data removed]",
            "text/plain": [
              "<Figure size 720x1080 with 2 Axes>"
            ]
          },
          "metadata": {
            "tags": [],
            "needs_background": "light"
          }
        }
      ]
    },
    {
      "cell_type": "markdown",
      "metadata": {
        "id": "RA5DDXV4vFr4"
      },
      "source": [
        "Linear\n",
        "nn.Linear: 2d가 아니라 1d만 들어가므로 .view() 1D로 펼쳐주어야 함"
      ]
    },
    {
      "cell_type": "code",
      "metadata": {
        "id": "VxNRCrb7vFr4",
        "outputId": "325e9ab1-f9d2-446c-bc47-7556e1b79502"
      },
      "source": [
        "image.shape"
      ],
      "execution_count": null,
      "outputs": [
        {
          "output_type": "execute_result",
          "data": {
            "text/plain": [
              "torch.Size([1, 1, 28, 28])"
            ]
          },
          "metadata": {
            "tags": []
          },
          "execution_count": 25
        }
      ]
    },
    {
      "cell_type": "code",
      "metadata": {
        "id": "GhryDm-mvFr4",
        "outputId": "5a435113-e082-4a4a-e52d-6292aa780c46"
      },
      "source": [
        "flatten=image.view(1, 28*28)\n",
        "flatten.shape"
      ],
      "execution_count": null,
      "outputs": [
        {
          "output_type": "execute_result",
          "data": {
            "text/plain": [
              "torch.Size([1, 784])"
            ]
          },
          "metadata": {
            "tags": []
          },
          "execution_count": 26
        }
      ]
    },
    {
      "cell_type": "code",
      "metadata": {
        "id": "PPRvVA16vFr4",
        "outputId": "db5ea6ce-2b42-4788-ed44-0ce0a53ee63a"
      },
      "source": [
        "lin = nn.Linear(784,10)(flatten)\n",
        "lin.shape"
      ],
      "execution_count": null,
      "outputs": [
        {
          "output_type": "execute_result",
          "data": {
            "text/plain": [
              "torch.Size([1, 10])"
            ]
          },
          "metadata": {
            "tags": []
          },
          "execution_count": 27
        }
      ]
    },
    {
      "cell_type": "code",
      "metadata": {
        "id": "C3rr7Df-vFr5",
        "outputId": "43b62336-2fdc-40e7-81a9-5869bd27a218"
      },
      "source": [
        "lin"
      ],
      "execution_count": null,
      "outputs": [
        {
          "output_type": "execute_result",
          "data": {
            "text/plain": [
              "tensor([[-0.0434,  0.0277,  0.1063,  0.1609,  0.1431,  0.2309,  0.1346,  0.4388,\n",
              "         -0.0121, -0.0381]], grad_fn=<AddmmBackward>)"
            ]
          },
          "metadata": {
            "tags": []
          },
          "execution_count": 28
        }
      ]
    },
    {
      "cell_type": "code",
      "metadata": {
        "id": "W8JZOQ05vFr5",
        "outputId": "f4a4a472-0495-44e1-d8fc-f64288c96b12"
      },
      "source": [
        "plt.imshow(lin.detach().numpy(), 'jet')\n",
        "plt.show()"
      ],
      "execution_count": null,
      "outputs": [
        {
          "output_type": "display_data",
          "data": {
            "image/png": "[encoded data removed]",
            "text/plain": [
              "<Figure size 432x288 with 1 Axes>"
            ]
          },
          "metadata": {
            "tags": [],
            "needs_background": "light"
          }
        }
      ]
    },
    {
      "cell_type": "code",
      "metadata": {
        "id": "RfsthqqMvFr5"
      },
      "source": [
        ""
      ],
      "execution_count": null,
      "outputs": []
    },
    {
      "cell_type": "code",
      "metadata": {
        "id": "0ON1DO9nvFr5"
      },
      "source": [
        ""
      ],
      "execution_count": null,
      "outputs": []
    },
    {
      "cell_type": "markdown",
      "metadata": {
        "id": "BGncUFrPvFr5"
      },
      "source": [
        "Softmax\n",
        "결과를 numpy로 꺼내기 위해 weight가 담긴 Linear에 weight를 꺼주어야 함"
      ]
    },
    {
      "cell_type": "code",
      "metadata": {
        "id": "0fJSWXCIvFr5"
      },
      "source": [
        "with torch.no_grad():\n",
        "    flatten=image.view(1,28*28)\n",
        "    lin=nn.Linear(784,10)(flatten)\n",
        "    softmax=F.softmax(lin, dim=1)"
      ],
      "execution_count": null,
      "outputs": []
    },
    {
      "cell_type": "code",
      "metadata": {
        "id": "mfuwd0zSvFr5",
        "outputId": "49dba137-0034-4e65-f052-2e6e7ad1d26f"
      },
      "source": [
        "softmax"
      ],
      "execution_count": null,
      "outputs": [
        {
          "output_type": "execute_result",
          "data": {
            "text/plain": [
              "tensor([[0.0697, 0.1198, 0.1297, 0.0978, 0.0897, 0.1263, 0.1136, 0.0836, 0.0888,\n",
              "         0.0811]])"
            ]
          },
          "metadata": {
            "tags": []
          },
          "execution_count": 32
        }
      ]
    },
    {
      "cell_type": "code",
      "metadata": {
        "id": "L4mcQ_RZvFr5",
        "outputId": "a4ce46f8-a8e3-4f75-8a73-64f38ca3acb5"
      },
      "source": [
        "np.sum(softmax.numpy())"
      ],
      "execution_count": null,
      "outputs": [
        {
          "output_type": "execute_result",
          "data": {
            "text/plain": [
              "1.0"
            ]
          },
          "metadata": {
            "tags": []
          },
          "execution_count": 33
        }
      ]
    },
    {
      "cell_type": "code",
      "metadata": {
        "id": "jcJ8PJ6vvFr5"
      },
      "source": [
        ""
      ],
      "execution_count": null,
      "outputs": []
    },
    {
      "cell_type": "markdown",
      "metadata": {
        "id": "aQiR-96TvFr5"
      },
      "source": [
        "Layer 쌓기\n",
        "예제 출처: https://pytorch.org/tutorials/beginner/pytorch_with_examples.html#id23\n",
        "\n",
        "nn과 nn.functional의 차이\n",
        "nn: 학습 파라미터가 담긴 것\n",
        "nn.functional: 학습 파라미터가 없는 것"
      ]
    },
    {
      "cell_type": "code",
      "metadata": {
        "id": "h_gEI3EIvFr5"
      },
      "source": [
        "class Net(nn.Module):\n",
        "    def __init__(self):\n",
        "        super(Net, self).__init__()\n",
        "        self.conv1 = nn.Conv2d(1,20,5,1)\n",
        "        self.conv2 = nn.Conv2d(20, 50, 5,1)\n",
        "        self.fc1 = nn.Linear(4*4*50, 500)\n",
        "        self.fc2 = nn.Linear(500, 10)\n",
        "    \n",
        "    def forward(self, x):\n",
        "        #Feature Extraction\n",
        "        x = F.relu(self.conv1(x))\n",
        "        x = F.max_pool2d(x,2,2)\n",
        "        x = F.relu(self.conv2(x))\n",
        "        x = F.max_pool2d(x,2,2)\n",
        "        \n",
        "        #Fully Connected(Classfication)\n",
        "        x = x.view(-1, 4*4*50)\n",
        "        x= F.relu(self.fc1(x))\n",
        "        x = self.fc2(x)\n",
        "        return F.log_softmax(x, dim=1)"
      ],
      "execution_count": null,
      "outputs": []
    },
    {
      "cell_type": "markdown",
      "metadata": {
        "id": "hqawSp20vFr5"
      },
      "source": [
        "image를 model에 넣어서 결과 확인"
      ]
    },
    {
      "cell_type": "code",
      "metadata": {
        "id": "i2CFFCe7vFr5"
      },
      "source": [
        "model= Net()"
      ],
      "execution_count": null,
      "outputs": []
    },
    {
      "cell_type": "code",
      "metadata": {
        "id": "69Lot5R3vFr5"
      },
      "source": [
        "result = model.forward(image)"
      ],
      "execution_count": null,
      "outputs": []
    },
    {
      "cell_type": "code",
      "metadata": {
        "id": "e2V8_oC7vFr6",
        "outputId": "f4057fd0-3aab-4e74-f394-ed82bc008b9a"
      },
      "source": [
        "result"
      ],
      "execution_count": null,
      "outputs": [
        {
          "output_type": "execute_result",
          "data": {
            "text/plain": [
              "tensor([[-2.3574, -2.2095, -2.2973, -2.3019, -2.3104, -2.3577, -2.2856, -2.2299,\n",
              "         -2.3526, -2.3357]], grad_fn=<LogSoftmaxBackward>)"
            ]
          },
          "metadata": {
            "tags": []
          },
          "execution_count": 37
        }
      ]
    },
    {
      "cell_type": "code",
      "metadata": {
        "id": "WohdEz9JvFr6",
        "outputId": "174df88a-5a46-4933-a0a1-f778f89823af"
      },
      "source": [
        "model.conv1(image)"
      ],
      "execution_count": null,
      "outputs": [
        {
          "output_type": "execute_result",
          "data": {
            "text/plain": [
              "tensor([[[[ 0.1285,  0.1285,  0.1285,  ...,  0.1285,  0.1285,  0.1285],\n",
              "          [ 0.1285,  0.1285,  0.1285,  ...,  0.0490,  0.0106,  0.0372],\n",
              "          [ 0.1285,  0.1285,  0.1285,  ...,  0.2341,  0.1608,  0.1133],\n",
              "          ...,\n",
              "          [ 0.1891,  0.2999,  0.3577,  ...,  0.1285,  0.1285,  0.1285],\n",
              "          [ 0.1746,  0.2696,  0.4747,  ...,  0.1285,  0.1285,  0.1285],\n",
              "          [ 0.1982,  0.3380,  0.5236,  ...,  0.1285,  0.1285,  0.1285]],\n",
              "\n",
              "         [[ 0.1476,  0.1476,  0.1476,  ...,  0.1476,  0.1476,  0.1476],\n",
              "          [ 0.1476,  0.1476,  0.1476,  ...,  0.0755,  0.0970,  0.0981],\n",
              "          [ 0.1476,  0.1476,  0.1476,  ..., -0.0024,  0.0092,  0.0713],\n",
              "          ...,\n",
              "          [ 0.2664,  0.4263,  0.5148,  ...,  0.1476,  0.1476,  0.1476],\n",
              "          [ 0.1853,  0.2204,  0.1986,  ...,  0.1476,  0.1476,  0.1476],\n",
              "          [ 0.0506, -0.2042, -0.4697,  ...,  0.1476,  0.1476,  0.1476]],\n",
              "\n",
              "         [[-0.1505, -0.1505, -0.1505,  ..., -0.1505, -0.1505, -0.1505],\n",
              "          [-0.1505, -0.1505, -0.1505,  ..., -0.2842, -0.2750, -0.2424],\n",
              "          [-0.1505, -0.1505, -0.1505,  ..., -0.2413, -0.2641, -0.1939],\n",
              "          ...,\n",
              "          [-0.1359, -0.1903, -0.1792,  ..., -0.1505, -0.1505, -0.1505],\n",
              "          [-0.0171,  0.0833,  0.1714,  ..., -0.1505, -0.1505, -0.1505],\n",
              "          [-0.0160,  0.1136,  0.2482,  ..., -0.1505, -0.1505, -0.1505]],\n",
              "\n",
              "         ...,\n",
              "\n",
              "         [[-0.1225, -0.1225, -0.1225,  ..., -0.1225, -0.1225, -0.1225],\n",
              "          [-0.1225, -0.1225, -0.1225,  ...,  0.0856,  0.0782, -0.0253],\n",
              "          [-0.1225, -0.1225, -0.1225,  ...,  0.4127,  0.2651,  0.0174],\n",
              "          ...,\n",
              "          [-0.2545, -0.3348, -0.2571,  ..., -0.1225, -0.1225, -0.1225],\n",
              "          [-0.1551, -0.1911, -0.0977,  ..., -0.1225, -0.1225, -0.1225],\n",
              "          [-0.0064,  0.2012,  0.4582,  ..., -0.1225, -0.1225, -0.1225]],\n",
              "\n",
              "         [[-0.0755, -0.0755, -0.0755,  ..., -0.0755, -0.0755, -0.0755],\n",
              "          [-0.0755, -0.0755, -0.0755,  ..., -0.1670, -0.1160, -0.0794],\n",
              "          [-0.0755, -0.0755, -0.0755,  ..., -0.1970, -0.2031, -0.1356],\n",
              "          ...,\n",
              "          [ 0.0522,  0.1990,  0.3036,  ..., -0.0755, -0.0755, -0.0755],\n",
              "          [ 0.0044,  0.1341,  0.0354,  ..., -0.0755, -0.0755, -0.0755],\n",
              "          [-0.0787, -0.1651, -0.2578,  ..., -0.0755, -0.0755, -0.0755]],\n",
              "\n",
              "         [[ 0.1661,  0.1661,  0.1661,  ...,  0.1661,  0.1661,  0.1661],\n",
              "          [ 0.1661,  0.1661,  0.1661,  ...,  0.0863,  0.1283,  0.1475],\n",
              "          [ 0.1661,  0.1661,  0.1661,  ...,  0.4819,  0.3393,  0.2216],\n",
              "          ...,\n",
              "          [ 0.0669, -0.0012,  0.1322,  ...,  0.1661,  0.1661,  0.1661],\n",
              "          [ 0.1589,  0.2061,  0.2073,  ...,  0.1661,  0.1661,  0.1661],\n",
              "          [ 0.2105,  0.2735,  0.1339,  ...,  0.1661,  0.1661,  0.1661]]]],\n",
              "       grad_fn=<MkldnnConvolutionBackward>)"
            ]
          },
          "metadata": {
            "tags": []
          },
          "execution_count": 38
        }
      ]
    },
    {
      "cell_type": "code",
      "metadata": {
        "id": "8Oq9T9XKvFr6"
      },
      "source": [
        ""
      ],
      "execution_count": null,
      "outputs": []
    },
    {
      "cell_type": "code",
      "metadata": {
        "id": "-Cwrm61wvFr6"
      },
      "source": [
        ""
      ],
      "execution_count": null,
      "outputs": []
    },
    {
      "cell_type": "code",
      "metadata": {
        "id": "NPvPKnlcvFr6"
      },
      "source": [
        ""
      ],
      "execution_count": null,
      "outputs": []
    },
    {
      "cell_type": "code",
      "metadata": {
        "id": "jJ2rvqr3vFr6"
      },
      "source": [
        ""
      ],
      "execution_count": null,
      "outputs": []
    },
    {
      "cell_type": "code",
      "metadata": {
        "id": "M4NL7lDpvFr6"
      },
      "source": [
        ""
      ],
      "execution_count": null,
      "outputs": []
    },
    {
      "cell_type": "code",
      "metadata": {
        "id": "_Ae2uIdHvFr6"
      },
      "source": [
        ""
      ],
      "execution_count": null,
      "outputs": []
    },
    {
      "cell_type": "code",
      "metadata": {
        "id": "gAmkGfMwvFr6"
      },
      "source": [
        ""
      ],
      "execution_count": null,
      "outputs": []
    },
    {
      "cell_type": "code",
      "metadata": {
        "id": "x_FaFyoLvFr6"
      },
      "source": [
        ""
      ],
      "execution_count": null,
      "outputs": []
    },
    {
      "cell_type": "code",
      "metadata": {
        "id": "re1gw1oRvFr6"
      },
      "source": [
        ""
      ],
      "execution_count": null,
      "outputs": []
    },
    {
      "cell_type": "code",
      "metadata": {
        "id": "dIbZnbt_vFr6"
      },
      "source": [
        ""
      ],
      "execution_count": null,
      "outputs": []
    }
  ]
}
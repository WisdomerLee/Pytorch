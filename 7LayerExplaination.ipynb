{
  "nbformat": 4,
  "nbformat_minor": 0,
  "metadata": {
    "kernelspec": {
      "display_name": "Python 3",
      "language": "python",
      "name": "python3"
    },
    "language_info": {
      "codemirror_mode": {
        "name": "ipython",
        "version": 3
      },
      "file_extension": ".py",
      "mimetype": "text/x-python",
      "name": "python",
      "nbconvert_exporter": "python",
      "pygments_lexer": "ipython3",
      "version": "3.7.6"
    },
    "colab": {
      "name": "7LayerExplaination.ipynb",
      "provenance": [],
      "include_colab_link": true
    }
  },
  "cells": [
    {
      "cell_type": "markdown",
      "metadata": {
        "id": "view-in-github",
        "colab_type": "text"
      },
      "source": [
        "<a href=\"https://colab.research.google.com/github/WisdomerLee/Pytorch/blob/main/7LayerExplaination.ipynb\" target=\"_parent\"><img src=\"https://colab.research.google.com/assets/colab-badge.svg\" alt=\"Open In Colab\"/></a>"
      ]
    },
    {
      "cell_type": "markdown",
      "metadata": {
        "id": "uMwNtgWFtCSb"
      },
      "source": [
        "Layer Explaination"
      ]
    },
    {
      "cell_type": "code",
      "metadata": {
        "id": "i-ltQFsStCSb"
      },
      "source": [
        "import tensorflow as tf"
      ],
      "execution_count": null,
      "outputs": []
    },
    {
      "cell_type": "markdown",
      "metadata": {
        "id": "5FUjYHImtCSb"
      },
      "source": [
        "Input Image\n",
        "input으로 들어갈 DataSet을 들여다보면서 시각화를\n",
        "\n",
        "패키지 로드\n",
        "os\n",
        "glob\n",
        "matplotlib"
      ]
    },
    {
      "cell_type": "code",
      "metadata": {
        "id": "P9j29FlstCSb"
      },
      "source": [
        "import matplotlib.pyplot as plt\n",
        "%matplotlib inline"
      ],
      "execution_count": null,
      "outputs": []
    },
    {
      "cell_type": "code",
      "metadata": {
        "id": "oD0elC38tCSb"
      },
      "source": [
        "from tensorflow.keras import datasets\n",
        "\n",
        "(train_x, train_y), (test_x, test_y) = datasets.mnist.load_data()"
      ],
      "execution_count": null,
      "outputs": []
    },
    {
      "cell_type": "code",
      "metadata": {
        "id": "V-DiYI8ytCSb"
      },
      "source": [
        "image = train_x[0]"
      ],
      "execution_count": null,
      "outputs": []
    },
    {
      "cell_type": "code",
      "metadata": {
        "id": "_QMIB3QwtCSb"
      },
      "source": [
        ""
      ],
      "execution_count": null,
      "outputs": []
    },
    {
      "cell_type": "markdown",
      "metadata": {
        "id": "PQKtr-LmtCSb"
      },
      "source": [
        "그림을 열었으니 무엇을..?"
      ]
    },
    {
      "cell_type": "code",
      "metadata": {
        "id": "FfML6I5vtCSb",
        "outputId": "de3486c8-888f-4aa6-d91b-095d2f0e026b"
      },
      "source": [
        "image.shape #그림을 확인하기 전에 차원, 모습을 알아내고 진행하기.."
      ],
      "execution_count": null,
      "outputs": [
        {
          "output_type": "execute_result",
          "data": {
            "text/plain": [
              "(28, 28)"
            ]
          },
          "metadata": {
            "tags": []
          },
          "execution_count": 5
        }
      ]
    },
    {
      "cell_type": "markdown",
      "metadata": {
        "id": "DFuv5iGKtCSc"
      },
      "source": [
        "차원 수를 확인했는데 어떤 결과가..?"
      ]
    },
    {
      "cell_type": "markdown",
      "metadata": {
        "id": "gSwb-AIxtCSd"
      },
      "source": [
        "[batch_size, height, width, channel]"
      ]
    },
    {
      "cell_type": "code",
      "metadata": {
        "id": "xanzLXdVtCSd",
        "outputId": "d6384446-6aaf-4eb1-a6a3-5fb41a79c33b"
      },
      "source": [
        "plt.imshow(image, 'gray')\n",
        "plt.show()"
      ],
      "execution_count": null,
      "outputs": [
        {
          "output_type": "display_data",
          "data": {
            "image/png": "[encoded data removed]",
            "text/plain": [
              "<Figure size 432x288 with 1 Axes>"
            ]
          },
          "metadata": {
            "tags": [],
            "needs_background": "light"
          }
        }
      ]
    },
    {
      "cell_type": "code",
      "metadata": {
        "id": "2ye2_bBQtCSd",
        "outputId": "0aac739d-b7b2-492a-ed4c-47e1fd1ecdb7"
      },
      "source": [
        "image = image[tf.newaxis, ..., tf.newaxis]\n",
        "image.shape"
      ],
      "execution_count": null,
      "outputs": [
        {
          "output_type": "execute_result",
          "data": {
            "text/plain": [
              "(1, 28, 28, 1)"
            ]
          },
          "metadata": {
            "tags": []
          },
          "execution_count": 7
        }
      ]
    },
    {
      "cell_type": "markdown",
      "metadata": {
        "id": "U7M2EdbHtCSd"
      },
      "source": [
        "Feature Extraction"
      ]
    },
    {
      "cell_type": "markdown",
      "metadata": {
        "id": "ug5T3YXjtCSd"
      },
      "source": [
        "데이터를 Feature Extraction 한 뒤에 classification이 진행됨"
      ]
    },
    {
      "cell_type": "markdown",
      "metadata": {
        "id": "IEueId8CtCSd"
      },
      "source": [
        "Convolution\n",
        "filters : Layer에서 나갈 때 몇 개의 filter를 만들 것인가?(weight, filter, channel)\n",
        "kernel_size: filter(weight)의 크기\n",
        "strides: 몇 개의 pixel을 뛰어넘어가면서 훑어나갈 것인가\n",
        "padding: zero padding을 만들 것인지, VALID는 Padding이 없고 SAME은 Padding이 있음(크기에도 영향을)\n",
        "activation: Activation Function을 만들 것인지, 당장 설정하지 않아도 Layer 층을 따로 만들 수 있음"
      ]
    },
    {
      "cell_type": "code",
      "metadata": {
        "id": "fs-XgAZ4tCSd",
        "outputId": "da1a456c-ea46-4ac5-8ab7-a1f5422739ae"
      },
      "source": [
        "tf.keras.layers.Conv2D(filters = 3, kernel_size = (3,3), strides =(1,1), padding='SAME', activation = 'relu')"
      ],
      "execution_count": null,
      "outputs": [
        {
          "output_type": "execute_result",
          "data": {
            "text/plain": [
              "<tensorflow.python.keras.layers.convolutional.Conv2D at 0x2f569b0ce08>"
            ]
          },
          "metadata": {
            "tags": []
          },
          "execution_count": 8
        }
      ]
    },
    {
      "cell_type": "markdown",
      "metadata": {
        "id": "EsOpZf7HtCSd"
      },
      "source": [
        "(3,3)대신 3으로 대체 가능"
      ]
    },
    {
      "cell_type": "code",
      "metadata": {
        "id": "lzLz5hgntCSd",
        "outputId": "f7fb1a1c-f988-4b47-937d-b5db5f5c2b9e"
      },
      "source": [
        "tf.keras.layers.Conv2D(3,3, 1, 'SAME')"
      ],
      "execution_count": null,
      "outputs": [
        {
          "output_type": "execute_result",
          "data": {
            "text/plain": [
              "<tensorflow.python.keras.layers.convolutional.Conv2D at 0x2f569b70e48>"
            ]
          },
          "metadata": {
            "tags": []
          },
          "execution_count": 9
        }
      ]
    },
    {
      "cell_type": "markdown",
      "metadata": {
        "id": "ehqJjMDhtCSd"
      },
      "source": [
        "Visualization\n",
        "tf.keras.layser.Conv2D"
      ]
    },
    {
      "cell_type": "code",
      "metadata": {
        "id": "FIQ-8LoatCSd",
        "outputId": "5cc8a399-ac68-491f-928f-aa8c8794d531"
      },
      "source": [
        "image = tf.cast(image, dtype = tf.float32)\n",
        "image.dtype"
      ],
      "execution_count": null,
      "outputs": [
        {
          "output_type": "execute_result",
          "data": {
            "text/plain": [
              "tf.float32"
            ]
          },
          "metadata": {
            "tags": []
          },
          "execution_count": 10
        }
      ]
    },
    {
      "cell_type": "code",
      "metadata": {
        "id": "e3ZOcZ6utCSd",
        "outputId": "a6c631eb-de45-4c2f-ae65-0ad4a33ab573"
      },
      "source": [
        "layer = tf.keras.layers.Conv2D(5,3,1, padding = 'SAME')\n",
        "layer"
      ],
      "execution_count": null,
      "outputs": [
        {
          "output_type": "execute_result",
          "data": {
            "text/plain": [
              "<tensorflow.python.keras.layers.convolutional.Conv2D at 0x2f569b72a88>"
            ]
          },
          "metadata": {
            "tags": []
          },
          "execution_count": 11
        }
      ]
    },
    {
      "cell_type": "code",
      "metadata": {
        "id": "sJNxNH7QtCSd"
      },
      "source": [
        "output = layer(image)"
      ],
      "execution_count": null,
      "outputs": []
    },
    {
      "cell_type": "code",
      "metadata": {
        "id": "XcZVN1K7tCSd",
        "outputId": "0b310869-1e5c-4ce5-93a3-4847ffa20c03"
      },
      "source": [
        "import numpy as np\n",
        "np.min(image), np.max(image)"
      ],
      "execution_count": null,
      "outputs": [
        {
          "output_type": "execute_result",
          "data": {
            "text/plain": [
              "(0.0, 255.0)"
            ]
          },
          "metadata": {
            "tags": []
          },
          "execution_count": 13
        }
      ]
    },
    {
      "cell_type": "code",
      "metadata": {
        "id": "38gU-yjStCSd",
        "outputId": "2ad30766-1bc4-4afe-c739-a80eea648b73"
      },
      "source": [
        "np.min(output), np.max(output)"
      ],
      "execution_count": null,
      "outputs": [
        {
          "output_type": "execute_result",
          "data": {
            "text/plain": [
              "(-335.87143, 177.32864)"
            ]
          },
          "metadata": {
            "tags": []
          },
          "execution_count": 14
        }
      ]
    },
    {
      "cell_type": "code",
      "metadata": {
        "id": "cEMOg85PtCSd",
        "outputId": "6d972192-1314-480a-9cde-c84c8d62d8b8"
      },
      "source": [
        "plt.subplot(1,2,1)\n",
        "plt.imshow(image[0, :, :, 0], 'gray')\n",
        "plt.subplot(1,2,2,)\n",
        "plt.imshow(output[0, :, :, 0], 'gray')\n",
        "plt.show()"
      ],
      "execution_count": null,
      "outputs": [
        {
          "output_type": "display_data",
          "data": {
            "image/png": "[encoded data removed]",
            "text/plain": [
              "<Figure size 432x288 with 2 Axes>"
            ]
          },
          "metadata": {
            "tags": [],
            "needs_background": "light"
          }
        }
      ]
    },
    {
      "cell_type": "code",
      "metadata": {
        "id": "Gjb8p4zktCSd"
      },
      "source": [
        ""
      ],
      "execution_count": null,
      "outputs": []
    },
    {
      "cell_type": "markdown",
      "metadata": {
        "id": "S1NH3wJNtCSe"
      },
      "source": [
        "weight 불러오기\n",
        "layer.get_weights()"
      ]
    },
    {
      "cell_type": "code",
      "metadata": {
        "id": "oOHTz_6ctCSe"
      },
      "source": [
        "weight = layer.get_weights()"
      ],
      "execution_count": null,
      "outputs": []
    },
    {
      "cell_type": "code",
      "metadata": {
        "id": "vlU_RlbBtCSe",
        "outputId": "4a33e21f-ff8f-4839-cf7c-a22537b35660"
      },
      "source": [
        "weight"
      ],
      "execution_count": null,
      "outputs": [
        {
          "output_type": "execute_result",
          "data": {
            "text/plain": [
              "[array([[[[-0.07048336, -0.1507814 , -0.03259492, -0.02738628,\n",
              "           -0.16914408]],\n",
              " \n",
              "         [[ 0.2587169 ,  0.01479039,  0.32341895, -0.2363523 ,\n",
              "           -0.2982243 ]],\n",
              " \n",
              "         [[-0.04147974,  0.32032445, -0.3114338 ,  0.00794768,\n",
              "            0.13921371]]],\n",
              " \n",
              " \n",
              "        [[[-0.32062468, -0.02121815,  0.09530315, -0.02744937,\n",
              "            0.21282652]],\n",
              " \n",
              "         [[-0.08184543, -0.18392777,  0.09337249, -0.04343882,\n",
              "            0.20277253]],\n",
              " \n",
              "         [[-0.28381214, -0.22082281,  0.24231496, -0.10815629,\n",
              "            0.261381  ]]],\n",
              " \n",
              " \n",
              "        [[[-0.31039095, -0.16412029,  0.30430213,  0.15449533,\n",
              "           -0.14824948]],\n",
              " \n",
              "         [[-0.17863393, -0.13189213, -0.23083608,  0.0921979 ,\n",
              "           -0.06275192]],\n",
              " \n",
              "         [[-0.14498219,  0.07415119, -0.10305183, -0.274126  ,\n",
              "           -0.06723133]]]], dtype=float32),\n",
              " array([0., 0., 0., 0., 0.], dtype=float32)]"
            ]
          },
          "metadata": {
            "tags": []
          },
          "execution_count": 17
        }
      ]
    },
    {
      "cell_type": "code",
      "metadata": {
        "id": "iTffg8TdtCSe",
        "outputId": "16ccf368-f9c3-47da-fab9-92d9cc3795e6"
      },
      "source": [
        "len(weight)"
      ],
      "execution_count": null,
      "outputs": [
        {
          "output_type": "execute_result",
          "data": {
            "text/plain": [
              "2"
            ]
          },
          "metadata": {
            "tags": []
          },
          "execution_count": 18
        }
      ]
    },
    {
      "cell_type": "code",
      "metadata": {
        "id": "aWI2kSsjtCSe",
        "outputId": "49bcefa2-5dcd-4970-84b0-76038ca1633b"
      },
      "source": [
        "weight[0].shape, weight[1].shape"
      ],
      "execution_count": null,
      "outputs": [
        {
          "output_type": "execute_result",
          "data": {
            "text/plain": [
              "((3, 3, 1, 5), (5,))"
            ]
          },
          "metadata": {
            "tags": []
          },
          "execution_count": 19
        }
      ]
    },
    {
      "cell_type": "code",
      "metadata": {
        "id": "cOXkStVvtCSe",
        "outputId": "835d2e85-b6c1-406e-a0af-fa9a919c5715"
      },
      "source": [
        "plt.imshow(image[0, :, :, 0], 'gray')\n",
        "plt.show()"
      ],
      "execution_count": null,
      "outputs": [
        {
          "output_type": "display_data",
          "data": {
            "image/png": "[encoded data removed]",
            "text/plain": [
              "<Figure size 432x288 with 1 Axes>"
            ]
          },
          "metadata": {
            "tags": [],
            "needs_background": "light"
          }
        }
      ]
    },
    {
      "cell_type": "code",
      "metadata": {
        "id": "G8iZQNyztCSe",
        "outputId": "678193dd-5a3f-4b8b-a891-9041c7811809"
      },
      "source": [
        "plt.figure(figsize=(15,5))\n",
        "plt.subplot(131)\n",
        "plt.hist(output.numpy().ravel(), range=[-2, 2])\n",
        "plt.ylim(0,100)\n",
        "plt.subplot(132)\n",
        "plt.title(weight[0].shape)\n",
        "plt.imshow(weight[0][:,:,0,0], 'gray')\n",
        "plt.subplot(133)\n",
        "plt.title(output.shape)\n",
        "plt.imshow(output[0,:,:,0], 'gray')\n",
        "plt.colorbar()\n",
        "plt.show()"
      ],
      "execution_count": null,
      "outputs": [
        {
          "output_type": "display_data",
          "data": {
            "image/png": "[encoded data removed]",
            "text/plain": [
              "<Figure size 1080x360 with 4 Axes>"
            ]
          },
          "metadata": {
            "tags": [],
            "needs_background": "light"
          }
        }
      ]
    },
    {
      "cell_type": "code",
      "metadata": {
        "id": "G9ef96_UtCSe"
      },
      "source": [
        "import numpy as np"
      ],
      "execution_count": null,
      "outputs": []
    },
    {
      "cell_type": "code",
      "metadata": {
        "id": "EgHC7b9EtCSe",
        "outputId": "a45a63ad-c3e3-4494-e2a8-0a2d71c5fde6"
      },
      "source": [
        "np.min(output), np.max(output)"
      ],
      "execution_count": null,
      "outputs": [
        {
          "output_type": "execute_result",
          "data": {
            "text/plain": [
              "(-335.87143, 177.32864)"
            ]
          },
          "metadata": {
            "tags": []
          },
          "execution_count": 23
        }
      ]
    },
    {
      "cell_type": "markdown",
      "metadata": {
        "id": "aU4dLdXEtCSe"
      },
      "source": [
        "Activation Function"
      ]
    },
    {
      "cell_type": "code",
      "metadata": {
        "id": "thIxhd8wtCSe",
        "outputId": "f6d78478-6ee2-434f-bfe3-2666d5b040e2"
      },
      "source": [
        "tf.keras.layers.ReLU() # 0이하의 값은 0으로 고정!"
      ],
      "execution_count": null,
      "outputs": [
        {
          "output_type": "execute_result",
          "data": {
            "text/plain": [
              "<tensorflow.python.keras.layers.advanced_activations.ReLU at 0x2f5714309c8>"
            ]
          },
          "metadata": {
            "tags": []
          },
          "execution_count": 24
        }
      ]
    },
    {
      "cell_type": "code",
      "metadata": {
        "id": "ur89NzMwtCSe"
      },
      "source": [
        "act_layer= tf.keras.layers.ReLU() #레이어 만들기\n",
        "act_output = act_layer(output) #적용"
      ],
      "execution_count": null,
      "outputs": []
    },
    {
      "cell_type": "code",
      "metadata": {
        "id": "lOm7Qy_EtCSe",
        "outputId": "86eea2c0-6d8c-4292-f4c7-519a27f1f4e0"
      },
      "source": [
        "output.shape"
      ],
      "execution_count": null,
      "outputs": [
        {
          "output_type": "execute_result",
          "data": {
            "text/plain": [
              "TensorShape([1, 28, 28, 5])"
            ]
          },
          "metadata": {
            "tags": []
          },
          "execution_count": 26
        }
      ]
    },
    {
      "cell_type": "code",
      "metadata": {
        "id": "Z8XyzXmktCSe",
        "outputId": "0a83d673-b42d-4e3a-e95a-e585adfed18b"
      },
      "source": [
        "np.min(act_output), np.max(act_output)"
      ],
      "execution_count": null,
      "outputs": [
        {
          "output_type": "execute_result",
          "data": {
            "text/plain": [
              "(0.0, 177.32864)"
            ]
          },
          "metadata": {
            "tags": []
          },
          "execution_count": 27
        }
      ]
    },
    {
      "cell_type": "code",
      "metadata": {
        "id": "M0zFDVqJtCSe",
        "outputId": "082c7f73-bc91-42c0-9df8-4d031e10d063"
      },
      "source": [
        "plt.figure(figsize=(15, 5))\n",
        "plt.subplot(121)\n",
        "plt.hist(act_output.numpy().ravel(), range=[-2, 2])\n",
        "plt.ylim(0, 100)\n",
        "\n",
        "plt.subplot(122)\n",
        "plt.title(act_output.shape)\n",
        "plt.imshow(act_output[0, :,:, 0], 'gray')\n",
        "plt.show()"
      ],
      "execution_count": null,
      "outputs": [
        {
          "output_type": "display_data",
          "data": {
            "image/png": "[encoded data removed]",
            "text/plain": [
              "<Figure size 1080x360 with 2 Axes>"
            ]
          },
          "metadata": {
            "tags": [],
            "needs_background": "light"
          }
        }
      ]
    },
    {
      "cell_type": "markdown",
      "metadata": {
        "id": "DnE43f7btCSe"
      },
      "source": [
        "Pooling\n",
        "tf.keras.layers.MaxPool2D"
      ]
    },
    {
      "cell_type": "code",
      "metadata": {
        "id": "3v-xk9hmtCSe"
      },
      "source": [
        "#그림을 받으면 강조된 부분만 얻어서 크기를 줄이는 것.... 크기를 반씩 줄이기"
      ],
      "execution_count": null,
      "outputs": []
    },
    {
      "cell_type": "code",
      "metadata": {
        "id": "zuZ9PHogtCSe",
        "outputId": "8e286509-434e-43f8-c8b2-2f6d9833e91a"
      },
      "source": [
        "tf.keras.layers.MaxPool2D(pool_size =(2,2), strides =(2,2), padding = 'SAME')"
      ],
      "execution_count": null,
      "outputs": [
        {
          "output_type": "execute_result",
          "data": {
            "text/plain": [
              "<tensorflow.python.keras.layers.pooling.MaxPooling2D at 0x2f57165ef88>"
            ]
          },
          "metadata": {
            "tags": []
          },
          "execution_count": 30
        }
      ]
    },
    {
      "cell_type": "code",
      "metadata": {
        "id": "tsKLmLWNtCSe"
      },
      "source": [
        "pool_layer = tf.keras.layers.MaxPool2D(pool_size=(2,2), strides = (2,2), padding= 'SAME')\n",
        "pool_output = pool_layer(act_output)"
      ],
      "execution_count": null,
      "outputs": []
    },
    {
      "cell_type": "code",
      "metadata": {
        "id": "pNeHsEgNtCSe",
        "outputId": "3abc3267-a374-47cb-c63a-da4b1522c7ef"
      },
      "source": [
        "act_output.shape"
      ],
      "execution_count": null,
      "outputs": [
        {
          "output_type": "execute_result",
          "data": {
            "text/plain": [
              "TensorShape([1, 28, 28, 5])"
            ]
          },
          "metadata": {
            "tags": []
          },
          "execution_count": 32
        }
      ]
    },
    {
      "cell_type": "code",
      "metadata": {
        "id": "438WNWVltCSf",
        "outputId": "003dc8f7-a1fe-45f0-979c-4876d7d5859d"
      },
      "source": [
        "pool_output.shape"
      ],
      "execution_count": null,
      "outputs": [
        {
          "output_type": "execute_result",
          "data": {
            "text/plain": [
              "TensorShape([1, 14, 14, 5])"
            ]
          },
          "metadata": {
            "tags": []
          },
          "execution_count": 33
        }
      ]
    },
    {
      "cell_type": "code",
      "metadata": {
        "id": "U-ZyC_CstCSf",
        "outputId": "72fc386b-5a80-4730-9ba6-8d0c0496ed41"
      },
      "source": [
        "plt.figure(figsize=(15,5))\n",
        "plt.subplot(121)\n",
        "plt.hist(pool_output.numpy().ravel(), range =[2,2])\n",
        "plt.ylim(0, 100)\n",
        "\n",
        "plt.subplot(122)\n",
        "plt.title(pool_output.shape)\n",
        "plt.imshow(pool_output[0,:,:,0], 'gray')\n",
        "plt.colorbar()\n",
        "plt.show()"
      ],
      "execution_count": null,
      "outputs": [
        {
          "output_type": "display_data",
          "data": {
            "image/png": "[encoded data removed]",
            "text/plain": [
              "<Figure size 1080x360 with 3 Axes>"
            ]
          },
          "metadata": {
            "tags": [],
            "needs_background": "light"
          }
        }
      ]
    },
    {
      "cell_type": "markdown",
      "metadata": {
        "id": "XNGVHKVBtCSf"
      },
      "source": [
        "Fully Connected\n",
        "DNN\n",
        "input에서 1차원으로 펼쳐지면 노드와 1:1로 연결됨, 연결된 부분마다 수식이 들어감\n",
        "bias node: 상수처럼 더해짐"
      ]
    },
    {
      "cell_type": "markdown",
      "metadata": {
        "id": "CmgSGCvbtCSf"
      },
      "source": [
        "Flatten\n",
        ": 2,3차원의 데이터를 일렬로.. 1차원으로\n",
        "tf.keras.layers.Flatten()"
      ]
    },
    {
      "cell_type": "code",
      "metadata": {
        "id": "DZjOR_UktCSf"
      },
      "source": [
        "import tensorflow as tf"
      ],
      "execution_count": null,
      "outputs": []
    },
    {
      "cell_type": "code",
      "metadata": {
        "id": "Su7jZ1WNtCSf",
        "outputId": "b63e0495-0aa6-4a85-e635-540b82e72d5a"
      },
      "source": [
        "tf.keras.layers.Flatten()"
      ],
      "execution_count": null,
      "outputs": [
        {
          "output_type": "execute_result",
          "data": {
            "text/plain": [
              "<tensorflow.python.keras.layers.core.Flatten at 0x2f5716a6d88>"
            ]
          },
          "metadata": {
            "tags": []
          },
          "execution_count": 36
        }
      ]
    },
    {
      "cell_type": "code",
      "metadata": {
        "id": "pycA6BKItCSf"
      },
      "source": [
        "layer = tf.keras.layers.Flatten()"
      ],
      "execution_count": null,
      "outputs": []
    },
    {
      "cell_type": "code",
      "metadata": {
        "id": "3nCSYEO6tCSf"
      },
      "source": [
        "flatten = layer(output)"
      ],
      "execution_count": null,
      "outputs": []
    },
    {
      "cell_type": "code",
      "metadata": {
        "id": "jPMcD-FitCSf",
        "outputId": "104abebb-7e33-41a2-e540-c961faf5184a"
      },
      "source": [
        "output.shape"
      ],
      "execution_count": null,
      "outputs": [
        {
          "output_type": "execute_result",
          "data": {
            "text/plain": [
              "TensorShape([1, 28, 28, 5])"
            ]
          },
          "metadata": {
            "tags": []
          },
          "execution_count": 39
        }
      ]
    },
    {
      "cell_type": "code",
      "metadata": {
        "id": "VB9OUUuftCSf",
        "outputId": "5dea1199-f390-44b0-a91f-c1f49ad72cae"
      },
      "source": [
        "flatten.shape"
      ],
      "execution_count": null,
      "outputs": [
        {
          "output_type": "execute_result",
          "data": {
            "text/plain": [
              "TensorShape([1, 3920])"
            ]
          },
          "metadata": {
            "tags": []
          },
          "execution_count": 40
        }
      ]
    },
    {
      "cell_type": "code",
      "metadata": {
        "id": "scxwiLrXtCSf",
        "outputId": "59183e27-2b84-4a93-b50d-72035fe43c41"
      },
      "source": [
        "plt.figure(figsize=(10, 5))\n",
        "plt.subplot(211)\n",
        "plt.hist(flatten.numpy().ravel())\n",
        "plt.subplot(212)\n",
        "plt.imshow(flatten[:, :100], 'jet')\n",
        "plt.show()"
      ],
      "execution_count": null,
      "outputs": [
        {
          "output_type": "display_data",
          "data": {
            "image/png": "[encoded data removed]",
            "text/plain": [
              "<Figure size 720x360 with 2 Axes>"
            ]
          },
          "metadata": {
            "tags": [],
            "needs_background": "light"
          }
        }
      ]
    },
    {
      "cell_type": "markdown",
      "metadata": {
        "id": "_xd3ZGE7tCSf"
      },
      "source": [
        "Dense\n",
        "tf.keras.layers.Dense\n",
        "하나씩 다 연결"
      ]
    },
    {
      "cell_type": "code",
      "metadata": {
        "id": "dNDhJSpLtCSf",
        "outputId": "cd978904-7dd9-4a24-8446-6336e335c925"
      },
      "source": [
        "tf.keras.layers.Dense(32, activation='relu')"
      ],
      "execution_count": null,
      "outputs": [
        {
          "output_type": "execute_result",
          "data": {
            "text/plain": [
              "<tensorflow.python.keras.layers.core.Dense at 0x2f5716a6a08>"
            ]
          },
          "metadata": {
            "tags": []
          },
          "execution_count": 42
        }
      ]
    },
    {
      "cell_type": "code",
      "metadata": {
        "id": "Ivk-oto4tCSf"
      },
      "source": [
        "layer = tf.keras.layers.Dense(32, activation = 'relu')"
      ],
      "execution_count": null,
      "outputs": []
    },
    {
      "cell_type": "code",
      "metadata": {
        "id": "gumhY4uDtCSf"
      },
      "source": [
        "output = layer(flatten)"
      ],
      "execution_count": null,
      "outputs": []
    },
    {
      "cell_type": "code",
      "metadata": {
        "id": "xd25ls_otCSf",
        "outputId": "ee207754-068f-4d00-a79b-e08cc7297582"
      },
      "source": [
        "output.shape"
      ],
      "execution_count": null,
      "outputs": [
        {
          "output_type": "execute_result",
          "data": {
            "text/plain": [
              "TensorShape([1, 32])"
            ]
          },
          "metadata": {
            "tags": []
          },
          "execution_count": 45
        }
      ]
    },
    {
      "cell_type": "code",
      "metadata": {
        "id": "kZEkEJrotCSf"
      },
      "source": [
        "layer_2 = tf.keras.layers.Dense(10, activation = 'relu')\n",
        "output_example = layer_2(output)"
      ],
      "execution_count": null,
      "outputs": []
    },
    {
      "cell_type": "code",
      "metadata": {
        "id": "6qx9FKF1tCSf",
        "outputId": "6de18322-175d-4477-9b1d-8901280b1bfc"
      },
      "source": [
        "output_example.shape"
      ],
      "execution_count": null,
      "outputs": [
        {
          "output_type": "execute_result",
          "data": {
            "text/plain": [
              "TensorShape([1, 10])"
            ]
          },
          "metadata": {
            "tags": []
          },
          "execution_count": 47
        }
      ]
    },
    {
      "cell_type": "markdown",
      "metadata": {
        "id": "E7eBOSKmtCSf"
      },
      "source": [
        "DropOut\n",
        "tf.keras.layers.Dropout\n",
        "\n",
        "전부 연결하여 오버피팅이 발생하기도 하는데 뉴런 연결처럼 특정 부분 연결을 끊고 연결하는 식으로 바꾸는 것\n",
        "인공지능이 학습할 때만 Dropout이 진행\n"
      ]
    },
    {
      "cell_type": "code",
      "metadata": {
        "id": "hSCosu6stCSf"
      },
      "source": [
        "layer = tf.keras.layers.Dropout(0.7)\n",
        "output = layer(output)"
      ],
      "execution_count": null,
      "outputs": []
    },
    {
      "cell_type": "code",
      "metadata": {
        "id": "BMcXtd4ZtCSf",
        "outputId": "22b849c5-613c-4326-c0c9-9e4c9412fa88"
      },
      "source": [
        "output.shape"
      ],
      "execution_count": null,
      "outputs": [
        {
          "output_type": "execute_result",
          "data": {
            "text/plain": [
              "TensorShape([1, 32])"
            ]
          },
          "metadata": {
            "tags": []
          },
          "execution_count": 49
        }
      ]
    },
    {
      "cell_type": "code",
      "metadata": {
        "id": "A9dJAGpetCSg"
      },
      "source": [
        ""
      ],
      "execution_count": null,
      "outputs": []
    },
    {
      "cell_type": "markdown",
      "metadata": {
        "id": "3ZE2yV29tCSg"
      },
      "source": [
        "Build Model"
      ]
    },
    {
      "cell_type": "code",
      "metadata": {
        "id": "5o9trLKJtCSg"
      },
      "source": [
        ""
      ],
      "execution_count": null,
      "outputs": []
    },
    {
      "cell_type": "code",
      "metadata": {
        "id": "ID_YjwIjtCSg"
      },
      "source": [
        "from tensorflow.keras import layers"
      ],
      "execution_count": null,
      "outputs": []
    },
    {
      "cell_type": "code",
      "metadata": {
        "id": "jln185aItCSg"
      },
      "source": [
        "input_shape =(28, 28, 1)\n",
        "num_classes = 10"
      ],
      "execution_count": null,
      "outputs": []
    },
    {
      "cell_type": "code",
      "metadata": {
        "id": "xNzKKNXVtCSg"
      },
      "source": [
        "inputs = layers.Input(shape = input_shape)\n",
        "\n",
        "#특정 추출\n",
        "net = layers.Conv2D(32, 3, padding='SAME')(inputs)\n",
        "net = layers.Activation('relu')(net)\n",
        "net = layers.Conv2D(32, 3, padding='SAME')(net)\n",
        "net = layers.Activation('relu')(net)\n",
        "net = layers.MaxPool2D((2,2))(net)\n",
        "net = layers.Dropout(0.25)(net)\n",
        "\n",
        "net = layers.Conv2D(32, 3, padding='SAME')(inputs)\n",
        "net = layers.Activation('relu')(net)\n",
        "net = layers.Conv2D(32, 3, padding='SAME')(net)\n",
        "net = layers.Activation('relu')(net)\n",
        "net = layers.MaxPool2D((2,2))(net)\n",
        "net = layers.Dropout(0.25)(net)\n",
        "\n",
        "#Fully Connected\n",
        "\n",
        "net = layers.Flatten()(net)\n",
        "net = layers.Dense(512)(net)\n",
        "net = layers.Activation('relu')(net)\n",
        "net = layers.Dropout(0.25)(net)\n",
        "net = layers.Dense(10)(net)\n",
        "net = layers.Activation('softmax')(net)\n",
        "\n",
        "model = tf.keras.Model(inputs = inputs, outputs=net, name='Basic_CNN')"
      ],
      "execution_count": null,
      "outputs": []
    },
    {
      "cell_type": "code",
      "metadata": {
        "id": "X51agN0mtCSg",
        "outputId": "f258fd38-7b25-41ad-90f5-868a9f9e2502"
      },
      "source": [
        "model"
      ],
      "execution_count": null,
      "outputs": [
        {
          "output_type": "execute_result",
          "data": {
            "text/plain": [
              "<tensorflow.python.keras.engine.training.Model at 0x2f571b84d08>"
            ]
          },
          "metadata": {
            "tags": []
          },
          "execution_count": 53
        }
      ]
    },
    {
      "cell_type": "code",
      "metadata": {
        "id": "ZyIF9huZtCSg",
        "outputId": "b45a3c69-8195-4d7e-e9f7-eb5b1c8bbf4a"
      },
      "source": [
        "model.summary()"
      ],
      "execution_count": null,
      "outputs": [
        {
          "output_type": "stream",
          "text": [
            "Model: \"Basic_CNN\"\n",
            "_________________________________________________________________\n",
            "Layer (type)                 Output Shape              Param #   \n",
            "=================================================================\n",
            "input_1 (InputLayer)         [(None, 28, 28, 1)]       0         \n",
            "_________________________________________________________________\n",
            "conv2d_5 (Conv2D)            (None, 28, 28, 32)        320       \n",
            "_________________________________________________________________\n",
            "activation_2 (Activation)    (None, 28, 28, 32)        0         \n",
            "_________________________________________________________________\n",
            "conv2d_6 (Conv2D)            (None, 28, 28, 32)        9248      \n",
            "_________________________________________________________________\n",
            "activation_3 (Activation)    (None, 28, 28, 32)        0         \n",
            "_________________________________________________________________\n",
            "max_pooling2d_3 (MaxPooling2 (None, 14, 14, 32)        0         \n",
            "_________________________________________________________________\n",
            "dropout_2 (Dropout)          (None, 14, 14, 32)        0         \n",
            "_________________________________________________________________\n",
            "flatten_2 (Flatten)          (None, 6272)              0         \n",
            "_________________________________________________________________\n",
            "dense_3 (Dense)              (None, 512)               3211776   \n",
            "_________________________________________________________________\n",
            "activation_4 (Activation)    (None, 512)               0         \n",
            "_________________________________________________________________\n",
            "dropout_3 (Dropout)          (None, 512)               0         \n",
            "_________________________________________________________________\n",
            "dense_4 (Dense)              (None, 10)                5130      \n",
            "_________________________________________________________________\n",
            "activation_5 (Activation)    (None, 10)                0         \n",
            "=================================================================\n",
            "Total params: 3,226,474\n",
            "Trainable params: 3,226,474\n",
            "Non-trainable params: 0\n",
            "_________________________________________________________________\n"
          ],
          "name": "stdout"
        }
      ]
    },
    {
      "cell_type": "code",
      "metadata": {
        "id": "r_hWyNHytCSg"
      },
      "source": [
        ""
      ],
      "execution_count": null,
      "outputs": []
    },
    {
      "cell_type": "code",
      "metadata": {
        "id": "POKQPQZ7tCSg"
      },
      "source": [
        ""
      ],
      "execution_count": null,
      "outputs": []
    },
    {
      "cell_type": "code",
      "metadata": {
        "id": "TD0_B-FntCSg"
      },
      "source": [
        ""
      ],
      "execution_count": null,
      "outputs": []
    }
  ]
}